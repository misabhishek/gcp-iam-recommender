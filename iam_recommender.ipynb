{
  "nbformat": 4,
  "nbformat_minor": 0,
  "metadata": {
    "colab": {
      "name": "iam-recommender.ipynb",
      "provenance": [],
      "authorship_tag": "ABX9TyPN3lRAB21Upoiz7FaNlNwh",
      "include_colab_link": true
    },
    "kernelspec": {
      "name": "python3",
      "display_name": "Python 3"
    }
  },
  "cells": [
    {
      "cell_type": "markdown",
      "metadata": {
        "id": "view-in-github",
        "colab_type": "text"
      },
      "source": [
        "<a href=\"https://colab.research.google.com/github/misabhishek/gcp-iam-recommender/blob/main/iam_recommender.ipynb\" target=\"_parent\"><img src=\"https://colab.research.google.com/assets/colab-badge.svg\" alt=\"Open In Colab\"/></a>"
      ]
    },
    {
      "cell_type": "markdown",
      "metadata": {
        "id": "KeysP1LNr3qb"
      },
      "source": [
        "# Before you begin\n",
        "\n",
        "\n",
        "1.   Use the [Cloud Resource Manager](https://console.cloud.google.com/cloud-resource-manager) to Create a Cloud Platform project if you do not already have one.\n",
        "2.   [Enable billing](https://support.google.com/cloud/answer/6293499#enable-billing) for the project.\n",
        "3.   [Enable BigQuery](https://console.cloud.google.com/flows/enableapi?apiid=bigquery) APIs for the project."
      ]
    },
    {
      "cell_type": "markdown",
      "metadata": {
        "id": "8lKMrjzbr_VW"
      },
      "source": [
        "### Provide your credentials to the runtime"
      ]
    },
    {
      "cell_type": "code",
      "metadata": {
        "id": "Z1Oy7UPTsSCn"
      },
      "source": [
        "from google.colab import auth\n",
        "auth.authenticate_user()\n",
        "print('Authenticated')"
      ],
      "execution_count": null,
      "outputs": []
    },
    {
      "cell_type": "markdown",
      "metadata": {
        "id": "v3D9dGE0sWaG"
      },
      "source": [
        "## Understand GCP IAM Recommender"
      ]
    },
    {
      "cell_type": "markdown",
      "metadata": {
        "id": "HlmIyARMHkr_"
      },
      "source": [
        "Declare the Cloud project ID which will be used throughout this notebook"
      ]
    },
    {
      "cell_type": "code",
      "metadata": {
        "id": "yXK3JD2NItrU"
      },
      "source": [
        "import json\n",
        "import subprocess\n",
        "def execute_command(command):\n",
        "    return json.loads(subprocess.check_output(filter(lambda x: x, command.split(\" \"))).decode(\"utf-8\"))"
      ],
      "execution_count": null,
      "outputs": []
    },
    {
      "cell_type": "code",
      "metadata": {
        "id": "spjyyYA-Hv0h"
      },
      "source": [
        "project_id = \"google.com:standard\""
      ],
      "execution_count": null,
      "outputs": []
    },
    {
      "cell_type": "code",
      "metadata": {
        "id": "yNZm0xtVH0PA"
      },
      "source": [
        "recommender_command = f\"\"\"gcloud recommender recommendations list \\\n",
        "                         --location=global \\\n",
        "                         --recommender=google.iam.policy.Recommender \\\n",
        "                         --project={project_id} \\\n",
        "                         --format=json\n",
        "                        \"\"\""
      ],
      "execution_count": null,
      "outputs": []
    },
    {
      "cell_type": "code",
      "metadata": {
        "id": "_Qcy3RBzIe-8"
      },
      "source": [
        "recommendations = execute_command(recommender_command)"
      ],
      "execution_count": null,
      "outputs": []
    },
    {
      "cell_type": "code",
      "metadata": {
        "id": "1HGqDGDQJE_2"
      },
      "source": [
        "recommendations[0]"
      ],
      "execution_count": null,
      "outputs": []
    },
    {
      "cell_type": "code",
      "metadata": {
        "id": "tjHLyGwzK6c4"
      },
      "source": [
        ""
      ],
      "execution_count": null,
      "outputs": []
    }
  ]
}