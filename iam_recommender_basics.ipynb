{
  "nbformat": 4,
  "nbformat_minor": 0,
  "metadata": {
    "colab": {
      "name": "iam-recommender-basics.ipynb",
      "provenance": [],
      "collapsed_sections": [],
      "authorship_tag": "ABX9TyOX0rflTiXpdMwhZg9V+wtY",
      "include_colab_link": true
    },
    "kernelspec": {
      "name": "python3",
      "display_name": "Python 3"
    }
  },
  "cells": [
    {
      "cell_type": "markdown",
      "metadata": {
        "id": "view-in-github",
        "colab_type": "text"
      },
      "source": [
        "<a href=\"https://colab.research.google.com/github/misabhishek/gcp-iam-recommender/blob/main/iam_recommender_basics.ipynb\" target=\"_parent\"><img src=\"https://colab.research.google.com/assets/colab-badge.svg\" alt=\"Open In Colab\"/></a>"
      ]
    },
    {
      "cell_type": "markdown",
      "metadata": {
        "id": "KeysP1LNr3qb"
      },
      "source": [
        "# Before you begin\n",
        "\n",
        "\n",
        "1.   Use the [Cloud Resource Manager](https://console.cloud.google.com/cloud-resource-manager) to Create a Cloud Platform project if you do not already have one.\n",
        "2.   [Enable billing](https://support.google.com/cloud/answer/6293499#enable-billing) for the project.\n",
        "3.   [Enable BigQuery](https://console.cloud.google.com/flows/enableapi?apiid=bigquery) APIs for the project."
      ]
    },
    {
      "cell_type": "markdown",
      "metadata": {
        "id": "8lKMrjzbr_VW"
      },
      "source": [
        "### Provide your credentials to the runtime"
      ]
    },
    {
      "cell_type": "code",
      "metadata": {
        "id": "Z1Oy7UPTsSCn"
      },
      "source": [
        "from google.colab import auth\n",
        "auth.authenticate_user()\n",
        "print('Authenticated')"
      ],
      "execution_count": null,
      "outputs": []
    },
    {
      "cell_type": "markdown",
      "metadata": {
        "id": "v3D9dGE0sWaG"
      },
      "source": [
        "## Understand GCP IAM Recommender"
      ]
    },
    {
      "cell_type": "markdown",
      "metadata": {
        "id": "HlmIyARMHkr_"
      },
      "source": [
        "**Declare the Cloud project ID which will be used throughout this notebook**"
      ]
    },
    {
      "cell_type": "code",
      "metadata": {
        "id": "spjyyYA-Hv0h"
      },
      "source": [
        "project_id = \"Enter-the-project-id\""
      ],
      "execution_count": 2,
      "outputs": []
    },
    {
      "cell_type": "markdown",
      "metadata": {
        "id": "bhsmYC0MLkZF"
      },
      "source": [
        "**A helper function to execute `gcloud` commands**"
      ]
    },
    {
      "cell_type": "code",
      "metadata": {
        "id": "p2wSITYfLrbM"
      },
      "source": [
        "import json\n",
        "import subprocess\n",
        "def execute_command(command):\n",
        "    return json.loads(subprocess.check_output(filter(lambda x: x, command.split(\" \"))).decode(\"utf-8\"))"
      ],
      "execution_count": 3,
      "outputs": []
    },
    {
      "cell_type": "code",
      "metadata": {
        "id": "yNZm0xtVH0PA"
      },
      "source": [
        "recommender_command = f\"\"\"gcloud recommender recommendations list \\\n",
        "                         --location=global \\\n",
        "                         --recommender=google.iam.policy.Recommender \\\n",
        "                         --project={project_id} \\\n",
        "                         --format=json\n",
        "                        \"\"\""
      ],
      "execution_count": 4,
      "outputs": []
    },
    {
      "cell_type": "code",
      "metadata": {
        "id": "_Qcy3RBzIe-8"
      },
      "source": [
        "recommendations = execute_command(recommender_command)"
      ],
      "execution_count": null,
      "outputs": []
    },
    {
      "cell_type": "code",
      "metadata": {
        "id": "1HGqDGDQJE_2"
      },
      "source": [
        "recommendations[7]"
      ],
      "execution_count": null,
      "outputs": []
    },
    {
      "cell_type": "code",
      "metadata": {
        "id": "c_ZKgC_ZOjrA"
      },
      "source": [
        "insight_name = 'Enter-the-insight-name-of-recommendation'"
      ],
      "execution_count": 78,
      "outputs": []
    },
    {
      "cell_type": "markdown",
      "metadata": {
        "id": "QYhLpEUONC9J"
      },
      "source": [
        "### Getting insight for the recommendations"
      ]
    },
    {
      "cell_type": "code",
      "metadata": {
        "id": "tjHLyGwzK6c4"
      },
      "source": [
        "insight_command = f\"\"\"gcloud recommender insights list \\\n",
        "    --project={project_id} \\\n",
        "    --location=global \\\n",
        "    --insight-type=google.iam.policy.Insight \\\n",
        "    --format=json\n",
        "    \"\"\""
      ],
      "execution_count": 43,
      "outputs": []
    },
    {
      "cell_type": "code",
      "metadata": {
        "id": "25xiSvoxNCKQ"
      },
      "source": [
        "insights = execute_command(insight_command)"
      ],
      "execution_count": 44,
      "outputs": []
    },
    {
      "cell_type": "code",
      "metadata": {
        "id": "mfOKhPgnNYbB"
      },
      "source": [
        "insights[3]"
      ],
      "execution_count": null,
      "outputs": []
    },
    {
      "cell_type": "code",
      "metadata": {
        "id": "ZvKy3c2SNwoT"
      },
      "source": [
        "def get_insight_by_name(insight_name):\n",
        "  for insight in insights:\n",
        "    if insight[\"name\"] == insight_name:\n",
        "      return insight\n",
        "  return f\"No insight found for the name: {insight_name}\""
      ],
      "execution_count": 49,
      "outputs": []
    },
    {
      "cell_type": "code",
      "metadata": {
        "id": "SJYW-4JsOLDF"
      },
      "source": [
        "get_insight_by_name(insight_name)"
      ],
      "execution_count": null,
      "outputs": []
    },
    {
      "cell_type": "markdown",
      "metadata": {
        "id": "rTz9WTExOMvn"
      },
      "source": [
        "### Generate diff view"
      ]
    },
    {
      "cell_type": "code",
      "metadata": {
        "id": "Lsi9vmo8PsV5"
      },
      "source": [
        "insight = get_insight_by_name(insight_name)"
      ],
      "execution_count": 54,
      "outputs": []
    },
    {
      "cell_type": "code",
      "metadata": {
        "id": "ZCsoBePSQlbr"
      },
      "source": [
        "insight"
      ],
      "execution_count": null,
      "outputs": []
    },
    {
      "cell_type": "code",
      "metadata": {
        "id": "FpsbrtfMQe9D"
      },
      "source": [
        "def get_needed_permissions(insight_name):\n",
        "  permissions = []\n",
        "  for p in insight[\"content\"][\"exercisedPermissions\"]:\n",
        "    permissions.append(p[\"permission\"])\n",
        "  \n",
        "  for p in insight[\"content\"][\"inferredPermissions\"]:\n",
        "    permissions.append(p[\"permission\"])\n",
        "  \n",
        "  return permissions"
      ],
      "execution_count": 65,
      "outputs": []
    },
    {
      "cell_type": "code",
      "metadata": {
        "id": "zBzvx0ZzQ_EG"
      },
      "source": [
        "get_needed_permissions(insight_name)"
      ],
      "execution_count": null,
      "outputs": []
    },
    {
      "cell_type": "code",
      "metadata": {
        "id": "hYKkPrdqSX-8"
      },
      "source": [
        "cur_role = \"enter-the-current-role\""
      ],
      "execution_count": 67,
      "outputs": []
    },
    {
      "cell_type": "code",
      "metadata": {
        "id": "9bLzPZdDPxas"
      },
      "source": [
        "role_to_permission_command = f\"\"\"gcloud iam roles describe {cur_role} \\\n",
        "                                 --format=json\"\"\""
      ],
      "execution_count": 76,
      "outputs": []
    },
    {
      "cell_type": "code",
      "metadata": {
        "id": "ifjsuGlmP2zu"
      },
      "source": [
        "execute_command(role_to_permission_command)"
      ],
      "execution_count": null,
      "outputs": []
    }
  ]
}