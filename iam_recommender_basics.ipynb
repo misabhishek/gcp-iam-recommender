{
  "nbformat": 4,
  "nbformat_minor": 0,
  "metadata": {
    "colab": {
      "name": "iam-recommender-basics.ipynb",
      "provenance": [],
      "collapsed_sections": [],
      "authorship_tag": "ABX9TyNYBHmp8QQWRP6ppO/gDI98",
      "include_colab_link": true
    },
    "kernelspec": {
      "name": "python3",
      "display_name": "Python 3"
    }
  },
  "cells": [
    {
      "cell_type": "markdown",
      "metadata": {
        "id": "view-in-github",
        "colab_type": "text"
      },
      "source": [
        "<a href=\"https://colab.research.google.com/github/misabhishek/gcp-iam-recommender/blob/main/iam_recommender_basics.ipynb\" target=\"_parent\"><img src=\"https://colab.research.google.com/assets/colab-badge.svg\" alt=\"Open In Colab\"/></a>"
      ]
    },
    {
      "cell_type": "markdown",
      "metadata": {
        "id": "KeysP1LNr3qb"
      },
      "source": [
        "# Before you begin\n",
        "\n",
        "\n",
        "1.  Have a GCP projrect ready. \n",
        "3.  [Enable Iam Recommender](https://console.cloud.google.com/flows/enableapi?apiid=recommender.googleapis.com) APIs for the project."
      ]
    },
    {
      "cell_type": "markdown",
      "metadata": {
        "id": "8lKMrjzbr_VW"
      },
      "source": [
        "### Provide your credentials to the runtime"
      ]
    },
    {
      "cell_type": "code",
      "metadata": {
        "id": "Z1Oy7UPTsSCn"
      },
      "source": [
        "from google.colab import auth\n",
        "auth.authenticate_user()\n",
        "print('Authenticated')"
      ],
      "execution_count": null,
      "outputs": []
    },
    {
      "cell_type": "markdown",
      "metadata": {
        "id": "v3D9dGE0sWaG"
      },
      "source": [
        "## Understand GCP IAM Recommender"
      ]
    },
    {
      "cell_type": "markdown",
      "metadata": {
        "id": "HlmIyARMHkr_"
      },
      "source": [
        "**Declare the Cloud project ID which will be used throughout this notebook**"
      ]
    },
    {
      "cell_type": "code",
      "metadata": {
        "id": "spjyyYA-Hv0h"
      },
      "source": [
        "project_id = \"Enter-your-project\""
      ],
      "execution_count": null,
      "outputs": []
    },
    {
      "cell_type": "markdown",
      "metadata": {
        "id": "bhsmYC0MLkZF"
      },
      "source": [
        "**A helper function to execute `gcloud` commands**"
      ]
    },
    {
      "cell_type": "code",
      "metadata": {
        "id": "p2wSITYfLrbM"
      },
      "source": [
        "import json\n",
        "import subprocess\n",
        "def execute_command(command):\n",
        "    return json.loads(subprocess.check_output(filter(lambda x: x, command.split(\" \"))).decode(\"utf-8\"))"
      ],
      "execution_count": null,
      "outputs": []
    },
    {
      "cell_type": "code",
      "metadata": {
        "id": "yNZm0xtVH0PA"
      },
      "source": [
        "recommender_command = f\"\"\"gcloud recommender recommendations list \\\n",
        "                         --location=global \\\n",
        "                         --recommender=google.iam.policy.Recommender \\\n",
        "                         --project={project_id} \\\n",
        "                         --format=json\n",
        "                        \"\"\""
      ],
      "execution_count": null,
      "outputs": []
    },
    {
      "cell_type": "code",
      "metadata": {
        "id": "_Qcy3RBzIe-8"
      },
      "source": [
        "recommendations = execute_command(recommender_command)"
      ],
      "execution_count": null,
      "outputs": []
    },
    {
      "cell_type": "code",
      "metadata": {
        "id": "1HGqDGDQJE_2"
      },
      "source": [
        "recommendations[7]"
      ],
      "execution_count": null,
      "outputs": []
    },
    {
      "cell_type": "markdown",
      "metadata": {
        "id": "QYhLpEUONC9J"
      },
      "source": [
        "### Getting insight for the recommendations"
      ]
    },
    {
      "cell_type": "code",
      "metadata": {
        "id": "tjHLyGwzK6c4"
      },
      "source": [
        "insight_command = f\"\"\"gcloud recommender insights list \\\n",
        "    --project={project_id} \\\n",
        "    --location=global \\\n",
        "    --insight-type=google.iam.policy.Insight \\\n",
        "    --format=json\n",
        "    \"\"\""
      ],
      "execution_count": null,
      "outputs": []
    },
    {
      "cell_type": "code",
      "metadata": {
        "id": "25xiSvoxNCKQ"
      },
      "source": [
        "insights = execute_command(insight_command)"
      ],
      "execution_count": null,
      "outputs": []
    },
    {
      "cell_type": "code",
      "metadata": {
        "id": "mfOKhPgnNYbB"
      },
      "source": [
        "insights[0]"
      ],
      "execution_count": null,
      "outputs": []
    },
    {
      "cell_type": "markdown",
      "metadata": {
        "id": "rTz9WTExOMvn"
      },
      "source": [
        "# Generate diff view"
      ]
    },
    {
      "cell_type": "code",
      "metadata": {
        "id": "UMnkEtLSeu1_"
      },
      "source": [
        "recommendation_name = \"Enter-the-recommendation-name\""
      ],
      "execution_count": null,
      "outputs": []
    },
    {
      "cell_type": "code",
      "metadata": {
        "id": "OzY3iVqFe673",
        "cellView": "form"
      },
      "source": [
        "#@title A helper to generate diff view. It uses IAM roles api also.\n",
        "import pandas as pd\n",
        "def generate_diff_view(recommendation_name):\n",
        "  role_to_permission_command = \"gcloud iam roles describe {} --format=json\"\n",
        "\n",
        "  recommendation = [r for r in recommendations if r[\"name\"] == recommendation_name][0]\n",
        "  insight_name = recommendation[\"associatedInsights\"][0][\"insight\"]\n",
        "\n",
        "  added_roles = []\n",
        "  removed_role = []\n",
        "  for op in recommendation[\"content\"][\"operationGroups\"][0][\"operations\"]:\n",
        "    if op[\"action\"] == \"add\":\n",
        "      added_roles.append(op[\"pathFilters\"][\"/iamPolicy/bindings/*/role\"])\n",
        "    if op[\"action\"] == \"remove\":\n",
        "      removed_role.append(op[\"pathFilters\"][\"/iamPolicy/bindings/*/role\"])\n",
        "\n",
        "  cur_permissions = set(execute_command(\n",
        "    role_to_permission_command.format(removed_role[0]))[\"includedPermissions\"])\n",
        "\n",
        "  recommended_permisisons = set() \n",
        "  for r in added_roles:\n",
        "    recommended_permisisons.update(execute_command(\n",
        "        role_to_permission_command.format(r))[\"includedPermissions\"])\n",
        "    \n",
        "  removed_permisisons = cur_permissions - recommended_permisisons\n",
        "  \n",
        "  insight = [insight for insight in insights \n",
        "             if insight[\"name\"] == insight_name][0]\n",
        "  used_permissions = set(k[\"permission\"] for k in \n",
        "                       insight[\"content\"][\"exercisedPermissions\"])\n",
        "  inferred_permissions = set(k[\"permission\"] for k in \n",
        "                           insight[\"content\"][\"inferredPermissions\"])\n",
        "  \n",
        "  unused_but_still_common_permissions = (recommended_permisisons - used_permissions \n",
        "                                         - inferred_permissions)\n",
        "  \n",
        "  types = ([\"used\"] * len(used_permissions) \n",
        "         + [\"ml-inferred\"] * len(inferred_permissions)\n",
        "         + [\"common\"] * len(unused_but_still_common_permissions)\n",
        "         + [\"removed\"] * len(removed_permisisons))\n",
        "  \n",
        "  permissions = [*used_permissions, *inferred_permissions, \n",
        "               *unused_but_still_common_permissions, *removed_permisisons]\n",
        "\n",
        "  return pd.DataFrame({\"type\": types, \"permission\": permissions})"
      ],
      "execution_count": null,
      "outputs": []
    },
    {
      "cell_type": "code",
      "metadata": {
        "id": "tBAj0ausiCdD"
      },
      "source": [
        "diff_view = generate_diff_view(recommendation_name)"
      ],
      "execution_count": null,
      "outputs": []
    },
    {
      "cell_type": "code",
      "metadata": {
        "id": "JPXHLLryj34u"
      },
      "source": [
        "diff_view"
      ],
      "execution_count": null,
      "outputs": []
    },
    {
      "cell_type": "code",
      "metadata": {
        "id": "D51dSXzuki6e"
      },
      "source": [
        "diff_view[\"type\"].value_counts()"
      ],
      "execution_count": null,
      "outputs": []
    }
  ]
}