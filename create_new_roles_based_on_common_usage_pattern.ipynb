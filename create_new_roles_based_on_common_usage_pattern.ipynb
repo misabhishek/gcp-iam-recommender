{
  "nbformat": 4,
  "nbformat_minor": 0,
  "metadata": {
    "colab": {
      "name": "iam-recommender-Create_custom_role_based_on_usage",
      "provenance": [],
      "collapsed_sections": [],
      "include_colab_link": true
    },
    "kernelspec": {
      "name": "python3",
      "display_name": "Python 3"
    }
  },
  "cells": [
    {
      "cell_type": "markdown",
      "metadata": {
        "id": "view-in-github",
        "colab_type": "text"
      },
      "source": [
        "<a href=\"https://colab.research.google.com/github/misabhishek/gcp-iam-recommender/blob/main/create_new_roles_based_on_common_usage_pattern.ipynb\" target=\"_parent\"><img src=\"https://colab.research.google.com/assets/colab-badge.svg\" alt=\"Open In Colab\"/></a>"
      ]
    },
    {
      "cell_type": "markdown",
      "metadata": {
        "id": "3zlTdQ-DBMNE"
      },
      "source": [
        "# Goal\n",
        "\n",
        "Help users to create a custom role based on the permissions' usage of given `principals` in the entire organizations and/or in a set of folders and/or in set of projects."
      ]
    },
    {
      "cell_type": "markdown",
      "metadata": {
        "id": "vfQKWcdbLQwe"
      },
      "source": [
        "## Install packages"
      ]
    },
    {
      "cell_type": "code",
      "metadata": {
        "id": "QPDQ_DI49NX3",
        "cellView": "form"
      },
      "source": [
        "#@title\n",
        "! pip install apache-beam[gcp]  "
      ],
      "execution_count": null,
      "outputs": []
    },
    {
      "cell_type": "markdown",
      "metadata": {
        "id": "T44_ly5Zo5T_"
      },
      "source": [
        "## Import Modules"
      ]
    },
    {
      "cell_type": "code",
      "metadata": {
        "id": "XFIXAHAAVaNW",
        "cellView": "form"
      },
      "source": [
        "#@title\n",
        "from google.colab import auth\n",
        "import json\n",
        "import subprocess\n",
        "import itertools\n",
        "import concurrent\n",
        "import logging\n",
        "import pickle\n",
        "import os\n",
        "import sys\n",
        "import pandas as pd\n",
        "\n",
        "import IPython\n",
        "import uuid\n",
        "from google.colab import output\n",
        "\n",
        "logging.basicConfig(format=\"%(levelname)s[%(asctime)s]:%(message)s\")\n",
        "\n",
        "import apache_beam as beam\n",
        "from apache_beam.options.pipeline_options import GoogleCloudOptions\n",
        "from apache_beam.options.pipeline_options import StandardOptions\n",
        "from apache_beam.options.pipeline_options import PipelineOptions"
      ],
      "execution_count": null,
      "outputs": []
    },
    {
      "cell_type": "markdown",
      "metadata": {
        "id": "J_7LwjgT9TAW"
      },
      "source": [
        "## Set Configurations"
      ]
    },
    {
      "cell_type": "code",
      "metadata": {
        "id": "3yISTs2687Fe",
        "cellView": "form"
      },
      "source": [
        "#@title Principal and container specific Configurations\n",
        "\n",
        "organization_ids = \"\" #@param {type:\"string\"}\n",
        "folder_ids = \"\" #@param {type:\"string\"}\n",
        "project_ids = \"projects/gcplearning-230005\" #@param {type:\"string\"}\n",
        "# do_you_want_get_a_new_custom_role = False #@param {type: \"boolean\"}\n",
        "how_many_maximum_predefined_roles_you_want_for_permission_usage = 5 #@param {type:\"slider\", min:1, max:10, step:1}\n",
        "principals_whose_permission_usage_you_want_to_analyze = \"user:misabhishek@google.com,user:jsytsma@google.com\" #@param {type:\"string\"}\n",
        "do_you_want_to_analyze_all_service_accounts = False #@param {type: \"boolean\"}\n",
        "do_you_want_to_analyze_all_user_accounts = False #@param {type: \"boolean\"}\n",
        "do_you_want_to_analyze_all_group_accounts = False #@param {type: \"boolean\"}\n",
        "do_you_want_to_analyze_all_project_owner = False #@param {type: \"boolean\"}\n",
        "do_you_want_to_analyze_all_project_editor = False #@param {type: \"boolean\"}\n",
        "do_you_want_to_analyze_all_project_viewer = False #@param {type: \"boolean\"}"
      ],
      "execution_count": null,
      "outputs": []
    },
    {
      "cell_type": "markdown",
      "metadata": {
        "id": "xWuH6UVOP5OW"
      },
      "source": [
        "## Configuration for GCP Dataflow.\n",
        "\n",
        "> Use [Dataflow](https://cloud.google.com/dataflow) if you have many projects, folders and you want to analyze the permssion utilization across all of them. Dataflow runs the apache-beam pipeline for you in Google Cloud Platform and manage resources for it. It subsequently stores the output of the pipeline into a GCS buckets for you. If you just want to experiment with the colab with few projects, the colab runtime resources should be sufficient for you."
      ]
    },
    {
      "cell_type": "code",
      "metadata": {
        "id": "f1N16QFCP2J6",
        "cellView": "form"
      },
      "source": [
        "billing_project_id = \"xiangwa-playground\" #@param {type:\"string\"}\n",
        "job_name = \"custom-role-creation-job\" #@param {type:\"string\"}\n",
        "region = \"Region where the dataflow job is running.\" #@param {type:\"string\"}\n",
        "staging_location = \"gs://xiangwa-playground/staging\" #@param {type:\"string\"}\n",
        "temp_location = 'gs://xiangwa-playground/temp' #@param {type:\"string\"}\n",
        "output_location = 'gs://xiangwa-playground' #@param {type:\"string\"}"
      ],
      "execution_count": null,
      "outputs": []
    },
    {
      "cell_type": "markdown",
      "metadata": {
        "id": "-14vohLdVWiD"
      },
      "source": [
        "## Setup Dataflow workflow parameters"
      ]
    },
    {
      "cell_type": "code",
      "metadata": {
        "id": "mFX-cg-N4WEM",
        "cellView": "form"
      },
      "source": [
        "#@title\n",
        "options = PipelineOptions()\n",
        "google_cloud_options = options.view_as(GoogleCloudOptions)\n",
        "google_cloud_options.project = billing_project_id\n",
        "google_cloud_options.staging_location = staging_location\n",
        "google_cloud_options.job_name = job_name\n",
        "google_cloud_options.region = region\n",
        "google_cloud_options.temp_location = temp_location\n",
        "options.view_as(StandardOptions).runner = 'DirectRunner'"
      ],
      "execution_count": null,
      "outputs": []
    },
    {
      "cell_type": "markdown",
      "metadata": {
        "id": "F9pazAYWBo7G"
      },
      "source": [
        "## Lets authenticate and set billing project for calling APIs"
      ]
    },
    {
      "cell_type": "code",
      "metadata": {
        "id": "PIXunUE2D8G7",
        "cellView": "form"
      },
      "source": [
        "#@title\n",
        "auth.authenticate_user()\n",
        "print('Authenticated')\n",
        "\n",
        "! gcloud config set project $billing_project_id"
      ],
      "execution_count": null,
      "outputs": []
    },
    {
      "cell_type": "markdown",
      "metadata": {
        "id": "UXYK-KZcCCIn"
      },
      "source": [
        "## Use IAM Policy Insight and Cloud Asset Inventory API to  get all needed permissions for the principals"
      ]
    },
    {
      "cell_type": "code",
      "metadata": {
        "id": "HBj2PGkjF6TN",
        "cellView": "form"
      },
      "source": [
        "#@title\n",
        "def execute_command(command):\n",
        "  return json.loads(subprocess.check_output(filter(lambda x: x, command.split(\" \"))).decode(\"utf-8\"))\n",
        "\n",
        "get_all_projects_command = \"\"\"gcloud asset search-all-resources \\\n",
        "                               --asset-types=cloudresourcemanager.googleapis.com/Project \\\n",
        "                               --scope={} --format=json --billing-project={}\"\"\"\n",
        "insight_command = \"\"\"gcloud recommender insights list \\\n",
        "    --project={} \\\n",
        "    --location=global \\\n",
        "    --insight-type=google.iam.policy.Insight \\\n",
        "    --format=json \\\n",
        "    --billing-project={}\"\"\"\n",
        "\n",
        "def get_all_projects(container_id):\n",
        "  if container_id.startswith(\"projects\"):\n",
        "    return [container_id.split(\"/\")[1]]\n",
        "  try:\n",
        "    projects = execute_command(get_all_projects_command.format(\n",
        "        container_id, billing_project_id))\n",
        "    return [p[\"additionalAttributes\"][\"projectId\"] for p in projects]\n",
        "  except:\n",
        "    logging.warning(f\"You don't have permissions to access container:`{container_id}`\")\n",
        "    return []\n",
        "\n",
        "def get_insights(project_id):\n",
        "  try: \n",
        "    return execute_command(insight_command.format(project_id, billing_project_id))\n",
        "  except:\n",
        "    return []\n",
        "\n",
        "def is_insight_useful(insight):\n",
        "  member = insight[\"content\"][\"member\"]\n",
        "  role = insight[\"content\"][\"role\"]\n",
        "  wanted_principals = principals_whose_permission_usage_you_want_to_analyze.split(\",\") \n",
        "  if member in wanted_principals:\n",
        "    return True\n",
        "  if do_you_want_to_analyze_all_service_accounts:\n",
        "    if member.startswith(\"ServiceAccount:\"):\n",
        "      return True\n",
        "  if do_you_want_to_analyze_all_user_accounts:\n",
        "    if member.startswith(\"User:\"):\n",
        "      return True \n",
        "  if do_you_want_to_analyze_all_group_accounts:\n",
        "    if member.startswith(\"Group:\"):\n",
        "      return True\n",
        "  if do_you_want_to_analyze_all_project_owner:\n",
        "    if role == \"roles/owner\":\n",
        "      return True\n",
        "  if do_you_want_to_analyze_all_project_editor:\n",
        "    if role == \"roles/editor\":\n",
        "      return True\n",
        "  if do_you_want_to_analyze_all_project_viewer:\n",
        "    if role == \"roles/viewer\":\n",
        "      return True\n",
        "  return False\n",
        "\n",
        "def get_needed_permissions(insight):\n",
        "  permissions = (insight[\"content\"][\"exercisedPermissions\"] \n",
        "                  + insight[\"content\"][\"inferredPermissions\"])\n",
        "  return [p[\"permission\"] for p in permissions]\n",
        "\n",
        "container_ids = (organization_ids.split(\",\") + folder_ids.split(\",\")\n",
        "                + project_ids.split(\",\"))\n",
        "with beam.Pipeline(options=options) as pipeline:\n",
        "  needed_permissions = (\n",
        "      pipeline\n",
        "      | beam.Create(container_ids)\n",
        "      | beam.FlatMap(get_all_projects)\n",
        "      | beam.FlatMap(get_insights)\n",
        "      | beam.Filter(is_insight_useful)\n",
        "      | beam.FlatMap(get_needed_permissions)\n",
        "      | beam.Distinct()\n",
        "      | beam.io.WriteToText(os.path.join(output_location, \"needed_permissions\"))\n",
        "  )\n",
        "\n",
        "# Get all the recommendation from GCS bucket to current location\n",
        "!gsutil cp -r $output_location/needed_permissions* /tmp/\n",
        "needed_permissions = {permission.strip() for permission in \n",
        "                      open(\"/tmp/needed_permissions-00000-of-00001\").readlines()\n",
        "                      }"
      ],
      "execution_count": null,
      "outputs": []
    },
    {
      "cell_type": "markdown",
      "metadata": {
        "id": "9WgEB-k4MyXT"
      },
      "source": [
        "## Show the needed permissions by members"
      ]
    },
    {
      "cell_type": "code",
      "metadata": {
        "cellView": "form",
        "id": "lCwzgST-LqzY"
      },
      "source": [
        "#@title\n",
        "import IPython\n",
        "from google.colab import output\n",
        "\n",
        "display(IPython.display.HTML('''\n",
        "    <button id='button'>Show the Needed IAM Pemissions by Members</button>\n",
        "    <script>\n",
        "      document.querySelector('#button').onclick = () => {\n",
        "        google.colab.kernel.invokeFunction('notebook.DisplayNeededPermissions', \n",
        "        [], {});\n",
        "      };\n",
        "    </script>\n",
        "    '''))\n",
        "\n",
        "def DisplayNeededPermissions():\n",
        "  df_needed_permissions = pd.DataFrame({\"needed_permissions\" : \n",
        "                                        sorted(needed_permissions)})\n",
        "\n",
        "  display(IPython.display.HTML(df_needed_permissions.to_html()))\n",
        "\n",
        "output.register_callback('notebook.DisplayNeededPermissions', DisplayNeededPermissions)"
      ],
      "execution_count": null,
      "outputs": []
    },
    {
      "cell_type": "markdown",
      "metadata": {
        "id": "jYUrlvmKZd-1"
      },
      "source": [
        "## Do you want to create a custom role out of it?"
      ]
    },
    {
      "cell_type": "code",
      "metadata": {
        "id": "Q5ybvPnIZk_x",
        "cellView": "form"
      },
      "source": [
        "id_of_custom_role = \"[Enter-a-unique-id-of-custom-role with pattern '[a-zA-Z0-9_\\.]{3,64}']\" #@param {type:\"string\"}\n",
        "project_to_create_custom_role = \"xiangwa-playground\" #@param {type:\"string\"}\n",
        "title_of_custom_role = \"[Custom-role-title]\" #@param {type:\"string\"}\n",
        "description = \"[description-for-custom-role]\" #@param {type:\"string\"}\n",
        "launch_stage = \"ALPHA\" #@param [\"ALPHA\", \"BETA\", \"GA\"]"
      ],
      "execution_count": null,
      "outputs": []
    },
    {
      "cell_type": "code",
      "metadata": {
        "id": "pfrONR9uegDM",
        "cellView": "form"
      },
      "source": [
        "role_id_of_custom_role = \"eng_role_4\" #@param {type:\"string\"}\n",
        "project_to_create_custom_role = \"gcplearning-230005\" #@param {type:\"string\"}\n",
        "title_of_custom_role = \"Eng-role\" #@param {type:\"string\"}\n",
        "description = \"Role assigned to all engineerins in my organization.\" #@param {type:\"string\"}\n",
        "launch_stage = \"ALPHA\" #@param [\"ALPHA\", \"BETA\", \"GA\"]"
      ],
      "execution_count": null,
      "outputs": []
    },
    {
      "cell_type": "markdown",
      "metadata": {
        "id": "FRuF7u-HSDlp"
      },
      "source": [
        "## Process for creating custom roles"
      ]
    },
    {
      "cell_type": "code",
      "metadata": {
        "id": "OmzThmUeUQof",
        "cellView": "form"
      },
      "source": [
        "#@title\n",
        "def print_output(s):\n",
        "  sys.stdout.write(s + \"\\n\")\n",
        "  sys.stdout.flush()\n",
        "\n",
        "def get_testable_permissions(project_id):\n",
        "  with output.use_tags('remove_outputs'):\n",
        "    resource_name = f\"//cloudresourcemanager.googleapis.com/projects/{project_id}\"\n",
        "    print_output(f\"Getting permissions that can be applied on the resource -- {resource_name}.\")\n",
        "    permissions = execute_command(\n",
        "      f\"\"\"gcloud iam list-testable-permissions \\\n",
        "      {resource_name} \\\n",
        "      --format=json\"\"\")\n",
        "    print_output(f\"Got {len(permissions)} for the resource -- {resource_name}\")\n",
        "  output.clear(output_tags='remove_outputs')\n",
        "  return permissions\n",
        "\n",
        "\n",
        "def user_interactions(project_id, permissions, message):\n",
        "  with output.use_tags('remove_outputs'):\n",
        "    print_output(f\"{message} at the project: {project_id}\")\n",
        "    print_output(\"\\n\".join(permissions))\n",
        "    print_output(\"Do you want to create a custom role without these permissions (Y/n)\")\n",
        "    user_response = input()\n",
        "    while True:\n",
        "      if (user_response.lower() not in (\"n\", \"no\", \"y\", \"yes\")):\n",
        "        print_output(\"Please enter a valid response.\")\n",
        "        user_response = input()\n",
        "        continue\n",
        "      break\n",
        "  return user_response\n",
        "\n",
        "def create_cusom_role(project_id : str, needed_permissions):\n",
        "  testable_permissions = get_testable_permissions(project_id)\n",
        "  not_granted_permissions = needed_permissions - {\n",
        "      p[\"name\"] for p in testable_permissions}\n",
        "  if not_granted_permissions:\n",
        "    response = user_interactions(project_id, not_granted_permissions, \n",
        "                        \"The following permissions cannot be granted\")\n",
        "    if response in (\"n\", \"no\"):\n",
        "      print_output(\"We cannot create a custom role for not-grantable permissions.\")\n",
        "      print_output(\"skipping the custom role creation process.\")\n",
        "      print_output(\"Good Bye!\")\n",
        "      return\n",
        "  # Remoing the not granted permissions.\n",
        "  needed_permissions = needed_permissions - not_granted_permissions\n",
        "\n",
        "  permissions_not_supported_by_custom_roles = needed_permissions.intersection({\n",
        "    p[\"name\"] for p in testable_permissions\n",
        "    if p.get(\"customRolesSupportLevel\", \"SUPPORTED\") == \"NOT_SUPPORTED\"\n",
        "    })\n",
        "  \n",
        "  if permissions_not_supported_by_custom_roles:\n",
        "    response = user_interactions(project_id, permissions_not_supported_by_custom_roles,\n",
        "                      \"The following permissions are not supported for creating a custom role\")\n",
        "    if response in (\"n\", \"no\"):\n",
        "      print_output(\"We cannot create a custom role for permissions not supported for custom roles.\")\n",
        "      print_output(\"skipping the custom role creation process.\")\n",
        "      print_output(\"Good Bye!\")\n",
        "      return\n",
        "\n",
        "  # Removing the not supported permissions\n",
        "  needed_permissions = needed_permissions - permissions_not_supported_by_custom_roles\n",
        "\n",
        "  permissions_in_test_mode_for_custom_roles = needed_permissions.intersection({\n",
        "    p[\"name\"] for p in testable_permissions\n",
        "    if p.get(\"customRolesSupportLevel\", \"SUPPORTED\") == \"TESTING\"\n",
        "    })\n",
        "  \n",
        "  if permissions_in_test_mode_for_custom_roles:\n",
        "    response = user_interactions(project_id, permissions_in_test_mode_for_custom_roles,\n",
        "                      \"The following permissions are in test mode and may not be backward compatible\")\n",
        "    if response in (\"n\", \"no\"):\n",
        "      print_output(\"We are going to create a custom role for permissions in test mode. Be aware that they may not be backward compatible.\")\n",
        "    else:\n",
        "      needed_permissions = needed_permissions - permissions_in_test_mode_for_custom_roles\n",
        "\n",
        "  needed_permissions_string = \",\".join(needed_permissions)\n",
        "\n",
        "  !gcloud iam roles create \\\n",
        "    $role_id_of_custom_role \\\n",
        "    --project=$project_to_create_custom_role \\\n",
        "    --title=$title_of_custom_role \\\n",
        "    --description=\"$description\" \\\n",
        "    --permissions=$needed_permissions_string \\\n",
        "    --stage=$launch_stage\n",
        "  print_output(\"Please go to the Pantheon for further inspection of the role. \")\n",
        "  print_output(f\"https://pantheon.corp.google.com/iam-admin/roles/details/projects%3C{project_id}%3Croles%3C{role_id_of_custom_role}?project={project_id}\")"
      ],
      "execution_count": null,
      "outputs": []
    },
    {
      "cell_type": "code",
      "metadata": {
        "id": "UKr8YRpCQ7oE"
      },
      "source": [
        "create_cusom_role(project_to_create_custom_role, set(needed_permissions))"
      ],
      "execution_count": null,
      "outputs": []
    },
    {
      "cell_type": "code",
      "metadata": {
        "id": "j85FN4clX1v7"
      },
      "source": [
        "import time\n",
        "import sys\n",
        "from google.colab import output\n",
        "\n",
        "print('Starting.')\n",
        "\n",
        "with output.use_tags('some_outputs'):\n",
        "  sys.stdout.write('working....\\n')\n",
        "  sys.stdout.flush();\n",
        "  time.sleep(2)\n",
        "\n",
        "  sys.stdout.write('still working...\\n')\n",
        "  sys.stdout.flush();\n",
        "  time.sleep(2)\n",
        "\n",
        "# Now clear the previous outputs.\n",
        "output.clear(output_tags='some_outputs')\n",
        "print('All done!')"
      ],
      "execution_count": null,
      "outputs": []
    },
    {
      "cell_type": "code",
      "metadata": {
        "id": "nK1l9xQ2UJuQ"
      },
      "source": [
        ""
      ],
      "execution_count": null,
      "outputs": []
    },
    {
      "cell_type": "code",
      "metadata": {
        "id": "Ay6Q9FYROrVB"
      },
      "source": [
        "create_cusom_role(\"gcplearning-230005\", set(needed_permissions))"
      ],
      "execution_count": null,
      "outputs": []
    },
    {
      "cell_type": "code",
      "metadata": {
        "id": "Ix5OzmmZSSDV"
      },
      "source": [
        "df = pd.DataFrame(t.values())"
      ],
      "execution_count": null,
      "outputs": []
    },
    {
      "cell_type": "code",
      "metadata": {
        "id": "72rc-SZ6c6lC"
      },
      "source": [
        "!gcloud iam roles create \\\n",
        " test-role \\\n",
        " --project=\"gcplearning-230005\" \\\n",
        " --title=\"\" \\\n",
        " --description=\"\" \\\n",
        " --permissions=${needed_permissions \\\n",
        " --stage=\"ALPHA\""
      ],
      "execution_count": null,
      "outputs": []
    },
    {
      "cell_type": "code",
      "metadata": {
        "id": "YvOg8o3vcbR7"
      },
      "source": [
        ""
      ],
      "execution_count": null,
      "outputs": []
    },
    {
      "cell_type": "markdown",
      "metadata": {
        "id": "7zFDwwQwDx2Q"
      },
      "source": [
        "## Use IAM Role APIs to get all predefined roles"
      ]
    },
    {
      "cell_type": "code",
      "metadata": {
        "id": "BS6uHqbQ8PZE"
      },
      "source": [
        "def get_role_permission_mapping(role):\n",
        "  command = f\"gcloud iam roles describe {role} --format=json\"\n",
        "  permissions = execute_command(command).get(\"includedPermissions\", [])\n",
        "  return json.dumps({role: permissions})"
      ],
      "execution_count": null,
      "outputs": []
    },
    {
      "cell_type": "code",
      "metadata": {
        "id": "ijj2I5Pl8TKc"
      },
      "source": [
        "def get_role_names():\n",
        "  predefined_roles_command = \"gcloud iam roles list --format=json\"\n",
        "  predefined_roles = execute_command(predefined_roles_command)\n",
        "  return [r[\"name\"] for r in predefined_roles]"
      ],
      "execution_count": null,
      "outputs": []
    },
    {
      "cell_type": "code",
      "metadata": {
        "id": "a_dpt3Ag8YWi"
      },
      "source": [
        "predefined_roles = get_role_names()\n",
        "\n",
        "with beam.Pipeline(options=options) as pipeline:\n",
        "  role_permission_mappings = (\n",
        "      pipeline\n",
        "      | beam.Create(predefined_roles)\n",
        "      | beam.Map(get_role_permission_mapping)\n",
        "      | beam.io.WriteToText(os.path.join(output_location, \"role_to_permission\"))\n",
        "  )"
      ],
      "execution_count": null,
      "outputs": []
    },
    {
      "cell_type": "markdown",
      "metadata": {
        "id": "1ViKgpG0ULW1"
      },
      "source": [
        "## Find a set of predefined roles\n",
        "\n"
      ]
    },
    {
      "cell_type": "code",
      "metadata": {
        "id": "mNdp45kJmE5G"
      },
      "source": [
        "def get_all_role_permission_mappings():\n",
        "  !gsutil cp -r $output_location/role_to_permission-00000-of-00001 /tmp\n",
        "  basic_roles = {\"roles/owner\", \"roles/editor\", \"roles/viewer\"}\n",
        "  role_permission_mapping = {}\n",
        "  with open(\"/tmp/role_to_permission-00000-of-00001\") as f:\n",
        "    for line in f:\n",
        "      for role, permission in json.loads(line).items():\n",
        "        if role in basic_roles:\n",
        "          continue\n",
        "        role_permission_mapping[role] = set(permission)\n",
        "  return role_permission_mapping"
      ],
      "execution_count": null,
      "outputs": []
    },
    {
      "cell_type": "code",
      "metadata": {
        "id": "1VO3Rbkm34BL"
      },
      "source": [
        "role_permission_mapping = get_all_role_permission_mappings()"
      ],
      "execution_count": null,
      "outputs": []
    },
    {
      "cell_type": "code",
      "metadata": {
        "id": "J6fSWuf7AtoV"
      },
      "source": [
        "class RoleCandidate:\n",
        "  def __init__(self, needed_permissions_granted, granted_permissons, name):\n",
        "    self.name = name\n",
        "    self.granted_permissons = granted_permissons\n",
        "    self.needed_permissions_granted = needed_permissions_granted\n",
        "\n",
        "  def __repr__(self):\n",
        "    return self.name\n",
        "  \n",
        "  def __lt__(self, other):\n",
        "    return (\n",
        "        (-self.needed_permissions_granted, self.granted_permissons, self.name)\n",
        "        < (-other.needed_permissions_granted, other.granted_permissons, other.name)\n",
        "        )\n",
        "    \n",
        "  \n",
        "  def __eq__(self, other):\n",
        "    return (\n",
        "        (self.needed_permissions_granted, -self.granted_permissons, self.name)\n",
        "        == (other.needed_permissions_granted, -other.granted_permissons, other.name)\n",
        "        )\n",
        "    \n",
        "class GetRoles(object):\n",
        "  def __init__(self, needed_permissions, role_to_permissions, max_number_role):\n",
        "    self.needed_permissions = needed_permissions\n",
        "    self.role_to_permissions = role_to_permissions\n",
        "    self.max_number_role = max_number_role\n",
        "    self.candidates = self.get_candidates()\n",
        "\n",
        "\n",
        "  def get_roles(self):\n",
        "    k = 0\n",
        "    roles = []\n",
        "    while (k < self.max_number_role) and (len(self.needed_permissions) > 0):\n",
        "      optimal_role = min(self.candidates)\n",
        "      roles.append(optimal_role.name)\n",
        "      self.update_needed_permissions(optimal_role)\n",
        "      self.update_candidates(optimal_role)\n",
        "      k += 1\n",
        "    return roles\n",
        "\n",
        "\n",
        "  def get_candidates(self):\n",
        "    candidates = []\n",
        "    for role in self.role_to_permissions:\n",
        "      granted_permissions = self.role_to_permissions[role]\n",
        "      needed_permissions_granted = len(self.needed_permissions.intersection(\n",
        "          granted_permissions))\n",
        "      candidates.append(RoleCandidate(needed_permissions_granted, \n",
        "                                      len(granted_permissions),\n",
        "                                      role))\n",
        "    return candidates\n",
        "\n",
        "\n",
        "  def update_needed_permissions(self, optimal_role):\n",
        "    print(len(self.needed_permissions))\n",
        "    self.needed_permissions = (self.needed_permissions \n",
        "                               - self.role_to_permissions[optimal_role.name])\n",
        "\n",
        "\n",
        "  def update_candidates(self, optimal_role):\n",
        "    self.candidates.remove(optimal_role)\n",
        "    for candidate in self.candidates:\n",
        "      candidate.needed_permissions_granted = len(\n",
        "          self.needed_permissions.intersection(\n",
        "              self.role_to_permissions[candidate.name]))"
      ],
      "execution_count": null,
      "outputs": []
    },
    {
      "cell_type": "code",
      "metadata": {
        "id": "arvwYXu43I6S"
      },
      "source": [
        "g = GetRoles(needed_permissions, role_permission_mapping, 5)"
      ],
      "execution_count": null,
      "outputs": []
    },
    {
      "cell_type": "code",
      "metadata": {
        "id": "NB4MFriu3YNj"
      },
      "source": [
        "d = g.get_roles()"
      ],
      "execution_count": null,
      "outputs": []
    },
    {
      "cell_type": "code",
      "metadata": {
        "id": "fI9m7tuS9-8j"
      },
      "source": [
        "g.needed_permissions"
      ],
      "execution_count": null,
      "outputs": []
    },
    {
      "cell_type": "code",
      "metadata": {
        "id": "cTKrpsav9p59"
      },
      "source": [
        "len(needed_permissions)"
      ],
      "execution_count": null,
      "outputs": []
    },
    {
      "cell_type": "markdown",
      "metadata": {
        "id": "msAm8PnXWMHE"
      },
      "source": [
        "### Create a custom role using the needed permissions "
      ]
    },
    {
      "cell_type": "code",
      "metadata": {
        "id": "q0Z4jCHkeyLF"
      },
      "source": [
        "all_roles.remove(\"roles/owner\")\n",
        "all_roles.remove(\"roles/editor\")\n",
        "all_roles.remove(\"roles/viewer\") "
      ],
      "execution_count": null,
      "outputs": []
    },
    {
      "cell_type": "code",
      "metadata": {
        "id": "XP9KtY6sFhWA"
      },
      "source": [
        "!gsutil mkdir gs://xiangwa-playground/misabhishek-iam-curated-role"
      ],
      "execution_count": null,
      "outputs": []
    },
    {
      "cell_type": "code",
      "metadata": {
        "id": "2ym3mF4MF7EC"
      },
      "source": [
        "ls"
      ],
      "execution_count": null,
      "outputs": []
    },
    {
      "cell_type": "code",
      "metadata": {
        "id": "KhW42egZEesX"
      },
      "source": [
        "! gsutil ls gs://xiangwa-playground/misabhishek-iam-curated-role/"
      ],
      "execution_count": null,
      "outputs": []
    },
    {
      "cell_type": "code",
      "metadata": {
        "id": "N4wxH3JLDjDM"
      },
      "source": [
        "len(permission_ids)"
      ],
      "execution_count": null,
      "outputs": []
    }
  ]
}