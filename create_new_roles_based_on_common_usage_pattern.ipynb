{
  "nbformat": 4,
  "nbformat_minor": 0,
  "metadata": {
    "colab": {
      "name": "iam-recommender-Create_custom_role_based_on_usage",
      "provenance": [],
      "collapsed_sections": [],
      "include_colab_link": true
    },
    "kernelspec": {
      "name": "python3",
      "display_name": "Python 3"
    }
  },
  "cells": [
    {
      "cell_type": "markdown",
      "metadata": {
        "id": "view-in-github",
        "colab_type": "text"
      },
      "source": [
        "<a href=\"https://colab.research.google.com/github/misabhishek/gcp-iam-recommender/blob/main/create_new_roles_based_on_common_usage_pattern.ipynb\" target=\"_parent\"><img src=\"https://colab.research.google.com/assets/colab-badge.svg\" alt=\"Open In Colab\"/></a>"
      ]
    },
    {
      "cell_type": "markdown",
      "metadata": {
        "id": "3zlTdQ-DBMNE"
      },
      "source": [
        "# Goal\n",
        "\n",
        "Help users to create a custom role based on the permissions' usage of given `principals` in the entire organizations and/or in a set of folders and/or in set of projects."
      ]
    },
    {
      "cell_type": "markdown",
      "metadata": {
        "id": "vfQKWcdbLQwe"
      },
      "source": [
        "## Install packages"
      ]
    },
    {
      "cell_type": "code",
      "metadata": {
        "id": "QPDQ_DI49NX3",
        "cellView": "form"
      },
      "source": [
        "#@title\n",
        "! pip install apache-beam[gcp]  "
      ],
      "execution_count": null,
      "outputs": []
    },
    {
      "cell_type": "markdown",
      "metadata": {
        "id": "T44_ly5Zo5T_"
      },
      "source": [
        "## Import Modules"
      ]
    },
    {
      "cell_type": "code",
      "metadata": {
        "id": "XFIXAHAAVaNW",
        "cellView": "form"
      },
      "source": [
        "#@title\n",
        "from google.colab import auth\n",
        "import json\n",
        "import subprocess\n",
        "import itertools\n",
        "import concurrent\n",
        "import logging\n",
        "import pickle\n",
        "import os\n",
        "import sys\n",
        "import pandas as pd\n",
        "\n",
        "import IPython\n",
        "import uuid\n",
        "from google.colab import output\n",
        "\n",
        "logging.basicConfig(format=\"%(levelname)s[%(asctime)s]:%(message)s\")\n",
        "\n",
        "import apache_beam as beam\n",
        "from apache_beam.options.pipeline_options import GoogleCloudOptions\n",
        "from apache_beam.options.pipeline_options import StandardOptions\n",
        "from apache_beam.options.pipeline_options import PipelineOptions"
      ],
      "execution_count": null,
      "outputs": []
    },
    {
      "cell_type": "markdown",
      "metadata": {
        "id": "J_7LwjgT9TAW"
      },
      "source": [
        "## Set Configurations"
      ]
    },
    {
      "cell_type": "code",
      "metadata": {
        "id": "3yISTs2687Fe",
        "cellView": "form"
      },
      "source": [
        "#@title Principal and container specific Configurations\n",
        "\n",
        "organization_ids = \"\" #@param {type:\"string\"}\n",
        "folder_ids = \"\" #@param {type:\"string\"}\n",
        "project_ids = \"\" #@param {type:\"string\"}\n",
        "# do_you_want_get_a_new_custom_role = False #@param {type: \"boolean\"}\n",
        "how_many_maximum_predefined_roles_you_want_for_permission_usage = 5 #@param {type:\"slider\", min:1, max:10, step:1}\n",
        "principals_whose_permission_usage_you_want_to_analyze = \"\" #@param {type:\"string\"}\n",
        "do_you_want_to_analyze_all_service_accounts = False #@param {type: \"boolean\"}\n",
        "do_you_want_to_analyze_all_user_accounts = False #@param {type: \"boolean\"}\n",
        "do_you_want_to_analyze_all_group_accounts = False #@param {type: \"boolean\"}\n",
        "do_you_want_to_analyze_all_project_owner = False #@param {type: \"boolean\"}\n",
        "do_you_want_to_analyze_all_project_editor = False #@param {type: \"boolean\"}\n",
        "do_you_want_to_analyze_all_project_viewer = False #@param {type: \"boolean\"}"
      ],
      "execution_count": null,
      "outputs": []
    },
    {
      "cell_type": "markdown",
      "metadata": {
        "id": "xWuH6UVOP5OW"
      },
      "source": [
        "## Configuration for GCP Dataflow.\n",
        "\n",
        "> Use [Dataflow](https://cloud.google.com/dataflow) if you have many projects, folders and you want to analyze the permssion utilization across all of them. Dataflow runs the apache-beam pipeline for you in Google Cloud Platform and manage resources for it. It subsequently stores the output of the pipeline into a GCS buckets for you. If you just want to experiment with the colab with few projects, the colab runtime resources should be sufficient for you."
      ]
    },
    {
      "cell_type": "code",
      "metadata": {
        "id": "f1N16QFCP2J6",
        "cellView": "form"
      },
      "source": [
        "billing_project_id = \"\" #@param {type:\"string\"}\n",
        "job_name = \"\" #@param {type:\"string\"}\n",
        "region = \"\" #@param {type:\"string\"}\n",
        "staging_location = \"\" #@param {type:\"string\"}\n",
        "temp_location = '' #@param {type:\"string\"}\n",
        "output_location = '' #@param {type:\"string\"}"
      ],
      "execution_count": null,
      "outputs": []
    },
    {
      "cell_type": "markdown",
      "metadata": {
        "id": "-14vohLdVWiD"
      },
      "source": [
        "## Setup Dataflow workflow parameters"
      ]
    },
    {
      "cell_type": "code",
      "metadata": {
        "id": "mFX-cg-N4WEM",
        "cellView": "form"
      },
      "source": [
        "#@title\n",
        "options = PipelineOptions()\n",
        "google_cloud_options = options.view_as(GoogleCloudOptions)\n",
        "google_cloud_options.project = billing_project_id\n",
        "google_cloud_options.staging_location = staging_location\n",
        "google_cloud_options.job_name = job_name\n",
        "google_cloud_options.region = region\n",
        "google_cloud_options.temp_location = temp_location\n",
        "options.view_as(StandardOptions).runner = 'DirectRunner'"
      ],
      "execution_count": null,
      "outputs": []
    },
    {
      "cell_type": "markdown",
      "metadata": {
        "id": "F9pazAYWBo7G"
      },
      "source": [
        "## Lets authenticate and set billing project for calling APIs"
      ]
    },
    {
      "cell_type": "code",
      "metadata": {
        "id": "PIXunUE2D8G7",
        "cellView": "form"
      },
      "source": [
        "#@title\n",
        "auth.authenticate_user()\n",
        "print('Authenticated')\n",
        "\n",
        "! gcloud config set project $billing_project_id"
      ],
      "execution_count": null,
      "outputs": []
    },
    {
      "cell_type": "markdown",
      "metadata": {
        "id": "UXYK-KZcCCIn"
      },
      "source": [
        "## Use IAM Policy Insight and Cloud Asset Inventory API to  get all needed permissions for the principals"
      ]
    },
    {
      "cell_type": "code",
      "metadata": {
        "id": "HBj2PGkjF6TN",
        "cellView": "form"
      },
      "source": [
        "#@title\n",
        "def execute_command(command):\n",
        "  return json.loads(subprocess.check_output(filter(lambda x: x, command.split(\" \"))).decode(\"utf-8\"))\n",
        "\n",
        "get_all_projects_command = \"\"\"gcloud asset search-all-resources \\\n",
        "                               --asset-types=cloudresourcemanager.googleapis.com/Project \\\n",
        "                               --scope={} --format=json --billing-project={}\"\"\"\n",
        "insight_command = \"\"\"gcloud recommender insights list \\\n",
        "    --project={} \\\n",
        "    --location=global \\\n",
        "    --insight-type=google.iam.policy.Insight \\\n",
        "    --format=json \\\n",
        "    --billing-project={}\"\"\"\n",
        "\n",
        "def get_all_projects(container_id):\n",
        "  if container_id.startswith(\"projects\"):\n",
        "    return [container_id.split(\"/\")[1]]\n",
        "  try:\n",
        "    projects = execute_command(get_all_projects_command.format(\n",
        "        container_id, billing_project_id))\n",
        "    return [p[\"additionalAttributes\"][\"projectId\"] for p in projects]\n",
        "  except:\n",
        "    logging.warning(f\"You don't have permissions to access container:`{container_id}`\")\n",
        "    return []\n",
        "\n",
        "def get_insights(project_id):\n",
        "  try: \n",
        "    return execute_command(insight_command.format(project_id, billing_project_id))\n",
        "  except:\n",
        "    return []\n",
        "\n",
        "def is_insight_useful(insight):\n",
        "  member = insight[\"content\"][\"member\"]\n",
        "  role = insight[\"content\"][\"role\"]\n",
        "  wanted_principals = principals_whose_permission_usage_you_want_to_analyze.split(\",\") \n",
        "  if member in wanted_principals:\n",
        "    return True\n",
        "  if do_you_want_to_analyze_all_service_accounts:\n",
        "    if member.startswith(\"ServiceAccount:\"):\n",
        "      return True\n",
        "  if do_you_want_to_analyze_all_user_accounts:\n",
        "    if member.startswith(\"User:\"):\n",
        "      return True \n",
        "  if do_you_want_to_analyze_all_group_accounts:\n",
        "    if member.startswith(\"Group:\"):\n",
        "      return True\n",
        "  if do_you_want_to_analyze_all_project_owner:\n",
        "    if role == \"roles/owner\":\n",
        "      return True\n",
        "  if do_you_want_to_analyze_all_project_editor:\n",
        "    if role == \"roles/editor\":\n",
        "      return True\n",
        "  if do_you_want_to_analyze_all_project_viewer:\n",
        "    if role == \"roles/viewer\":\n",
        "      return True\n",
        "  return False\n",
        "\n",
        "def get_needed_permissions(insight):\n",
        "  permissions = (insight[\"content\"][\"exercisedPermissions\"] \n",
        "                  + insight[\"content\"][\"inferredPermissions\"])\n",
        "  return [p[\"permission\"] for p in permissions]\n",
        "\n",
        "container_ids = (organization_ids.split(\",\") + folder_ids.split(\",\")\n",
        "                + project_ids.split(\",\"))\n",
        "with beam.Pipeline(options=options) as pipeline:\n",
        "  needed_permissions = (\n",
        "      pipeline\n",
        "      | beam.Create(container_ids)\n",
        "      | beam.FlatMap(get_all_projects)\n",
        "      | beam.FlatMap(get_insights)\n",
        "      | beam.Filter(is_insight_useful)\n",
        "      | beam.FlatMap(get_needed_permissions)\n",
        "      | beam.Distinct()\n",
        "      | beam.io.WriteToText(os.path.join(output_location, \"needed_permissions\"))\n",
        "  )\n",
        "\n",
        "# Get all the recommendation from GCS bucket to current location\n",
        "!gsutil cp -r $output_location/needed_permissions* /tmp/\n",
        "needed_permissions = {permission.strip() for permission in \n",
        "                      open(\"/tmp/needed_permissions-00000-of-00001\").readlines()\n",
        "                      }"
      ],
      "execution_count": null,
      "outputs": []
    },
    {
      "cell_type": "markdown",
      "metadata": {
        "id": "9WgEB-k4MyXT"
      },
      "source": [
        "## Show the needed permissions by members"
      ]
    },
    {
      "cell_type": "code",
      "metadata": {
        "cellView": "form",
        "id": "lCwzgST-LqzY"
      },
      "source": [
        "#@title\n",
        "import IPython\n",
        "from google.colab import output\n",
        "\n",
        "display(IPython.display.HTML('''\n",
        "    <button id='button'>Show the Needed IAM Pemissions by Members</button>\n",
        "    <script>\n",
        "      document.querySelector('#button').onclick = () => {\n",
        "        google.colab.kernel.invokeFunction('notebook.DisplayNeededPermissions', \n",
        "        [], {});\n",
        "      };\n",
        "    </script>\n",
        "    '''))\n",
        "\n",
        "def DisplayNeededPermissions():\n",
        "  df_needed_permissions = pd.DataFrame({\"needed_permissions\" : \n",
        "                                        sorted(needed_permissions)})\n",
        "\n",
        "  display(IPython.display.HTML(df_needed_permissions.to_html()))\n",
        "\n",
        "output.register_callback('notebook.DisplayNeededPermissions', DisplayNeededPermissions)"
      ],
      "execution_count": null,
      "outputs": []
    },
    {
      "cell_type": "markdown",
      "metadata": {
        "id": "jYUrlvmKZd-1"
      },
      "source": [
        "## Do you want to create a custom role out of it?"
      ]
    },
    {
      "cell_type": "code",
      "metadata": {
        "id": "Q5ybvPnIZk_x",
        "cellView": "form"
      },
      "source": [
        "id_of_custom_role = \"[Enter-a-unique-id-of-custom-role with pattern '[a-zA-Z0-9_\\.]{3,64}']\" #@param {type:\"string\"}\n",
        "project_to_create_custom_role = \"\" #@param {type:\"string\"}\n",
        "title_of_custom_role = \"[Custom-role-title]\" #@param {type:\"string\"}\n",
        "description = \"[description-for-custom-role]\" #@param {type:\"string\"}\n",
        "launch_stage = \"ALPHA\" #@param [\"ALPHA\", \"BETA\", \"GA\"]"
      ],
      "execution_count": null,
      "outputs": []
    },
    {
      "cell_type": "markdown",
      "metadata": {
        "id": "FRuF7u-HSDlp"
      },
      "source": [
        "## Process for creating custom roles"
      ]
    },
    {
      "cell_type": "code",
      "metadata": {
        "id": "OmzThmUeUQof",
        "cellView": "form"
      },
      "source": [
        "#@title\n",
        "def print_output(s):\n",
        "  sys.stdout.write(s + \"\\n\")\n",
        "  sys.stdout.flush()\n",
        "\n",
        "def get_testable_permissions(project_id):\n",
        "  with output.use_tags('remove_outputs'):\n",
        "    resource_name = f\"//cloudresourcemanager.googleapis.com/projects/{project_id}\"\n",
        "    print_output(f\"Getting permissions that can be applied on the resource -- {resource_name}.\")\n",
        "    permissions = execute_command(\n",
        "      f\"\"\"gcloud iam list-testable-permissions \\\n",
        "      {resource_name} \\\n",
        "      --format=json\"\"\")\n",
        "    print_output(f\"Got {len(permissions)} for the resource -- {resource_name}\")\n",
        "  output.clear(output_tags='remove_outputs')\n",
        "  return permissions\n",
        "\n",
        "\n",
        "def user_interactions(project_id, permissions, message):\n",
        "  with output.use_tags('remove_outputs'):\n",
        "    print_output(f\"{message} at the project: {project_id}\")\n",
        "    print_output(\"\\n\".join(permissions))\n",
        "    print_output(\"Do you want to create a custom role without these permissions (Y/n)\")\n",
        "    user_response = input()\n",
        "    while True:\n",
        "      if (user_response.lower() not in (\"n\", \"no\", \"y\", \"yes\")):\n",
        "        print_output(\"Please enter a valid response.\")\n",
        "        user_response = input()\n",
        "        continue\n",
        "      break\n",
        "  return user_response\n",
        "\n",
        "def create_cusom_role(project_id : str, needed_permissions):\n",
        "  testable_permissions = get_testable_permissions(project_id)\n",
        "  not_granted_permissions = needed_permissions - {\n",
        "      p[\"name\"] for p in testable_permissions}\n",
        "  if not_granted_permissions:\n",
        "    response = user_interactions(project_id, not_granted_permissions, \n",
        "                        \"The following permissions cannot be granted\")\n",
        "    if response in (\"n\", \"no\"):\n",
        "      print_output(\"We cannot create a custom role for not-grantable permissions.\")\n",
        "      print_output(\"skipping the custom role creation process.\")\n",
        "      print_output(\"Good Bye!\")\n",
        "      return\n",
        "  # Remoing the not granted permissions.\n",
        "  needed_permissions = needed_permissions - not_granted_permissions\n",
        "\n",
        "  permissions_not_supported_by_custom_roles = needed_permissions.intersection({\n",
        "    p[\"name\"] for p in testable_permissions\n",
        "    if p.get(\"customRolesSupportLevel\", \"SUPPORTED\") == \"NOT_SUPPORTED\"\n",
        "    })\n",
        "  \n",
        "  if permissions_not_supported_by_custom_roles:\n",
        "    response = user_interactions(project_id, permissions_not_supported_by_custom_roles,\n",
        "                      \"The following permissions are not supported for creating a custom role\")\n",
        "    if response in (\"n\", \"no\"):\n",
        "      print_output(\"We cannot create a custom role for permissions not supported for custom roles.\")\n",
        "      print_output(\"skipping the custom role creation process.\")\n",
        "      print_output(\"Good Bye!\")\n",
        "      return\n",
        "\n",
        "  # Removing the not supported permissions\n",
        "  needed_permissions = needed_permissions - permissions_not_supported_by_custom_roles\n",
        "\n",
        "  permissions_in_test_mode_for_custom_roles = needed_permissions.intersection({\n",
        "    p[\"name\"] for p in testable_permissions\n",
        "    if p.get(\"customRolesSupportLevel\", \"SUPPORTED\") == \"TESTING\"\n",
        "    })\n",
        "  \n",
        "  if permissions_in_test_mode_for_custom_roles:\n",
        "    response = user_interactions(project_id, permissions_in_test_mode_for_custom_roles,\n",
        "                      \"The following permissions are in test mode and may not be backward compatible\")\n",
        "    if response in (\"n\", \"no\"):\n",
        "      print_output(\"We are going to create a custom role for permissions in test mode. Be aware that they may not be backward compatible.\")\n",
        "    else:\n",
        "      needed_permissions = needed_permissions - permissions_in_test_mode_for_custom_roles\n",
        "\n",
        "  needed_permissions_string = \",\".join(needed_permissions)\n",
        "\n",
        "  !gcloud iam roles create \\\n",
        "    $role_id_of_custom_role \\\n",
        "    --project=$project_to_create_custom_role \\\n",
        "    --title=$title_of_custom_role \\\n",
        "    --description=\"$description\" \\\n",
        "    --permissions=$needed_permissions_string \\\n",
        "    --stage=$launch_stage\n",
        "  print_output(\"Please go to the Pantheon for further inspection of the role. \")\n",
        "  print_output(f\"https://pantheon.corp.google.com/iam-admin/roles/details/projects%3C{project_id}%3Croles%3C{role_id_of_custom_role}?project={project_id}\")"
      ],
      "execution_count": null,
      "outputs": []
    },
    {
      "cell_type": "code",
      "metadata": {
        "id": "UKr8YRpCQ7oE"
      },
      "source": [
        "create_cusom_role(project_to_create_custom_role, set(needed_permissions))"
      ],
      "execution_count": null,
      "outputs": []
    }
  ]
}