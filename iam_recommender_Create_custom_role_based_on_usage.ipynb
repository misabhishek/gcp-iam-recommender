{
  "nbformat": 4,
  "nbformat_minor": 0,
  "metadata": {
    "colab": {
      "name": "iam-recommender-Create_custom_role_based_on_usage",
      "provenance": [],
      "collapsed_sections": [
        "-14vohLdVWiD",
        "F9pazAYWBo7G",
        "UXYK-KZcCCIn",
        "_1nGwtY0UXlM",
        "ljaERiMSDZQC"
      ],
      "authorship_tag": "ABX9TyOLugioAdkdruzsiP2hB7/b",
      "include_colab_link": true
    },
    "kernelspec": {
      "name": "python3",
      "display_name": "Python 3"
    }
  },
  "cells": [
    {
      "cell_type": "markdown",
      "metadata": {
        "id": "view-in-github",
        "colab_type": "text"
      },
      "source": [
        "<a href=\"https://colab.research.google.com/github/misabhishek/gcp-iam-recommender/blob/main/iam_recommender_Create_custom_role_based_on_usage.ipynb\" target=\"_parent\"><img src=\"https://colab.research.google.com/assets/colab-badge.svg\" alt=\"Open In Colab\"/></a>"
      ]
    },
    {
      "cell_type": "markdown",
      "metadata": {
        "id": "3zlTdQ-DBMNE"
      },
      "source": [
        "#Problem Statement\n",
        "\n",
        "Create a custom role based on the permissions' usage of given `principals` in my entire organization"
      ]
    },
    {
      "cell_type": "markdown",
      "metadata": {
        "id": "-14vohLdVWiD"
      },
      "source": [
        "### Imports"
      ]
    },
    {
      "cell_type": "code",
      "metadata": {
        "id": "XFIXAHAAVaNW"
      },
      "source": [
        "from google.colab import auth\n",
        "import json\n",
        "import subprocess\n",
        "\n",
        "import concurrent\n",
        "import logging\n",
        "\n",
        "logging.basicConfig(format=\"%(levelname)s[%(asctime)s]:%(message)s\")"
      ],
      "execution_count": null,
      "outputs": []
    },
    {
      "cell_type": "markdown",
      "metadata": {
        "id": "F9pazAYWBo7G"
      },
      "source": [
        "### Lets authenticate"
      ]
    },
    {
      "cell_type": "code",
      "metadata": {
        "id": "PIXunUE2D8G7"
      },
      "source": [
        "auth.authenticate_user()\n",
        "print('Authenticated')"
      ],
      "execution_count": null,
      "outputs": []
    },
    {
      "cell_type": "markdown",
      "metadata": {
        "id": "UXYK-KZcCCIn"
      },
      "source": [
        "### Helper functions"
      ]
    },
    {
      "cell_type": "code",
      "metadata": {
        "id": "HBj2PGkjF6TN"
      },
      "source": [
        "def execute_command(command):\n",
        "  return json.loads(subprocess.check_output(filter(lambda x: x, command.split(\" \"))).decode(\"utf-8\"))"
      ],
      "execution_count": null,
      "outputs": []
    },
    {
      "cell_type": "markdown",
      "metadata": {
        "id": "jHTtkZOSCIA2"
      },
      "source": [
        "### Enter your org details"
      ]
    },
    {
      "cell_type": "code",
      "metadata": {
        "id": "qzbdQUDKFzEF"
      },
      "source": [
        "organization = \"# YOUR-ORGANIZATION-ID\"\n",
        "billing_project_id = \"GCP-PROJECT-FOR-CALLING-THE-APIs"
      ],
      "execution_count": null,
      "outputs": []
    },
    {
      "cell_type": "markdown",
      "metadata": {
        "id": "_1nGwtY0UXlM"
      },
      "source": [
        "### Get All the projects"
      ]
    },
    {
      "cell_type": "code",
      "metadata": {
        "id": "3jwflX1yEK7n"
      },
      "source": [
        "get_all_projects_command = f\"\"\"gcloud asset search-all-resources \\\n",
        "                               --asset-types=cloudresourcemanager.googleapis.com/Project \\\n",
        "                               --scope={organization} --format=json --project={billing_project_id}\"\"\""
      ],
      "execution_count": null,
      "outputs": []
    },
    {
      "cell_type": "code",
      "metadata": {
        "id": "CBsxK5NIFaE2"
      },
      "source": [
        "def get_all_projects():\n",
        "  projects = execute_command(get_all_projects_command)\n",
        "  return [p[\"additionalAttributes\"][\"projectId\"] for p in projects]"
      ],
      "execution_count": null,
      "outputs": []
    },
    {
      "cell_type": "code",
      "metadata": {
        "id": "GLfJ9Uz9GYln"
      },
      "source": [
        "project_ids = get_all_projects()"
      ],
      "execution_count": null,
      "outputs": []
    },
    {
      "cell_type": "code",
      "metadata": {
        "id": "hH2a180nCpwm"
      },
      "source": [
        "print(\"project-ids\\n\\n\", \"\\n\".join(project_ids[:10]))"
      ],
      "execution_count": null,
      "outputs": []
    },
    {
      "cell_type": "markdown",
      "metadata": {
        "id": "ljaERiMSDZQC"
      },
      "source": [
        "### Get All Insights"
      ]
    },
    {
      "cell_type": "code",
      "metadata": {
        "id": "Ou3hX_ZYIFDu"
      },
      "source": [
        "insight_command = \"\"\"gcloud recommender insights list \\\n",
        "    --project={} \\\n",
        "    --location=global \\\n",
        "    --insight-type=google.iam.policy.Insight \\\n",
        "    --format=json \\\n",
        "    --billing-project=\"\"\" + billing_project_id"
      ],
      "execution_count": null,
      "outputs": []
    },
    {
      "cell_type": "code",
      "metadata": {
        "id": "hMIvuZyaITz7"
      },
      "source": [
        "def get_all_insights():\n",
        "  def get_insights(project_id):\n",
        "    try:\n",
        "      return {\"project_id\":project_id,\n",
        "              \"insights\": execute_command(insight_command.format(project_id))}\n",
        "    except:\n",
        "      logging.warning(f\"You don't have permissions to access project:`{project_id}`\")\n",
        "      return {\"project_id\": project_id,\n",
        "              \"insights\": []}\n",
        "\n",
        "  with concurrent.futures.ThreadPoolExecutor(max_workers=100) as executor:\n",
        "    insights = {\"all_insights\": list(executor.map(get_insights, project_ids))}\n",
        "  \n",
        "  return insights"
      ],
      "execution_count": null,
      "outputs": []
    },
    {
      "cell_type": "code",
      "metadata": {
        "id": "VJXZfr6YUTzw"
      },
      "source": [
        "insights = get_all_insights()"
      ],
      "execution_count": null,
      "outputs": []
    },
    {
      "cell_type": "markdown",
      "metadata": {
        "id": "1ViKgpG0ULW1"
      },
      "source": [
        "### Get All Needed Permisisons"
      ]
    },
    {
      "cell_type": "code",
      "metadata": {
        "id": "Z_uJv1EuImu-"
      },
      "source": [
        "def get_all_needed_permission_by_principals(principals):\n",
        "  get_member = lambda insight:insight[\"content\"][\"member\"] \n",
        "\n",
        "  def get_needed_permissions(insight):\n",
        "    permissions = (insight[\"content\"][\"exercisedPermissions\"] \n",
        "                   + insight[\"content\"][\"inferredPermissions\"])\n",
        "    return [p[\"permission\"] for p in permissions]\n",
        "\n",
        "  needed_permissions = []\n",
        "  for project_insight in insights[\"all_insights\"]:\n",
        "    for insight in project_insight[\"insights\"]:\n",
        "      if get_member(insight) in principals:\n",
        "        needed_permissions.extend(get_needed_permissions(insight))\n",
        "  return needed_permissions"
      ],
      "execution_count": null,
      "outputs": []
    },
    {
      "cell_type": "code",
      "metadata": {
        "id": "5A4QwryAQgX0"
      },
      "source": [
        "all_needed_permissions = get_all_needed_permission_by_principals(\n",
        "    {\"user:misabhishek@google.com\",\n",
        "     \"user:admin@iam-condition-demo.joonix.net\"})"
      ],
      "execution_count": null,
      "outputs": []
    },
    {
      "cell_type": "code",
      "metadata": {
        "id": "6WP10ES-Qkr1"
      },
      "source": [
        "all_needed_permissions[:10]"
      ],
      "execution_count": null,
      "outputs": []
    },
    {
      "cell_type": "markdown",
      "metadata": {
        "id": "msAm8PnXWMHE"
      },
      "source": [
        "### Create a custom role using the needed permissions "
      ]
    },
    {
      "cell_type": "code",
      "metadata": {
        "id": "9SkYYYNwWaqh",
        "cellView": "form"
      },
      "source": [
        "#@title\n"
      ],
      "execution_count": null,
      "outputs": []
    }
  ]
}