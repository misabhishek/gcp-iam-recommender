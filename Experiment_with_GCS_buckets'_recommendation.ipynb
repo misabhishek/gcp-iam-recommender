{
  "nbformat": 4,
  "nbformat_minor": 0,
  "metadata": {
    "colab": {
      "name": "Experiment with GCS buckets' recommendation",
      "provenance": [],
      "collapsed_sections": [],
      "authorship_tag": "ABX9TyNxJbSbG7zlcoVTc3uJz9BZ",
      "include_colab_link": true
    },
    "kernelspec": {
      "name": "python3",
      "display_name": "Python 3"
    }
  },
  "cells": [
    {
      "cell_type": "markdown",
      "metadata": {
        "id": "view-in-github",
        "colab_type": "text"
      },
      "source": [
        "<a href=\"https://colab.research.google.com/github/misabhishek/gcp-iam-recommender/blob/main/Experiment_with_GCS_buckets'_recommendation.ipynb\" target=\"_parent\"><img src=\"https://colab.research.google.com/assets/colab-badge.svg\" alt=\"Open In Colab\"/></a>"
      ]
    },
    {
      "cell_type": "markdown",
      "metadata": {
        "id": "6jODJX4o5QiX"
      },
      "source": [
        "# Experiment with GCS Bucket demo\n",
        "\n",
        "The purpose of this colab is to give you a glimse of what can you do with GCS buckets' recommendations in achieving least privillege. \n",
        "\n",
        "**Note:** Please take this [tutorial](https://colab.research.google.com/?utm_source=scs-index) if you are not familiar with colab."
      ]
    },
    {
      "cell_type": "markdown",
      "metadata": {
        "id": "yHoO2dFabgfl"
      },
      "source": [
        "## Authorize the colab"
      ]
    },
    {
      "cell_type": "code",
      "metadata": {
        "id": "8qwoaPzfbejL"
      },
      "source": [
        "from google.colab import auth as google_auth\n",
        "google_auth.authenticate_user()\n",
        "print(\"authorized\")"
      ],
      "execution_count": null,
      "outputs": []
    },
    {
      "cell_type": "code",
      "metadata": {
        "cellView": "form",
        "id": "7EUPP6qI7pza"
      },
      "source": [
        "#@title Enter the configuration\n",
        "project = \"Enter the project for which you want the recommendations\" #@param {type:\"string\"}\n",
        "location = \"Enter the location of GCS buckets (Ex - us)\" #@param {type:\"string\"}\n",
        "billing_project = \"Enter one of the project you used for allow listing the api\" #@param {type:\"string\"}"
      ],
      "execution_count": null,
      "outputs": []
    },
    {
      "cell_type": "markdown",
      "metadata": {
        "id": "5gs-NOa9_-L7"
      },
      "source": [
        "# gcloud demo\n",
        "\n",
        "In this demo, we present how to access the IAM recommendations and IAM Policy insights for GCS buckets using gcloud."
      ]
    },
    {
      "cell_type": "markdown",
      "metadata": {
        "id": "49XJ52-ynZrg"
      },
      "source": [
        "## Recommendation"
      ]
    },
    {
      "cell_type": "markdown",
      "metadata": {
        "id": "lNstuvIt8CFG"
      },
      "source": [
        "### All bucket recommendations for a given project and location"
      ]
    },
    {
      "cell_type": "code",
      "metadata": {
        "id": "W42IgN6qllZx"
      },
      "source": [
        "!gcloud recommender recommendations list \\\n",
        "--location=\"{location}\" \\\n",
        "--recommender=google.iam.policy.Recommender \\\n",
        "--project=\"{project}\" \\\n",
        "--format=\"table[box,title='IAM Recommendations at GCS bucket level'](targetResources.basename().flatten():sort=1:label=BUCKET,content.overview.member,content.overview.removedRole,content.overview.addedRoles,priority)\" \\\n",
        "--billing-project=\"{billing_project}\" \\"
      ],
      "execution_count": null,
      "outputs": []
    },
    {
      "cell_type": "markdown",
      "metadata": {
        "id": "xxWFZR5-8VBS"
      },
      "source": [
        "### Recommendations to curtail public access on GCS buckets"
      ]
    },
    {
      "cell_type": "code",
      "metadata": {
        "id": "WQYf6Idw8bN-"
      },
      "source": [
        "!gcloud recommender recommendations list \\\n",
        "--location=\"{location}\" \\\n",
        "--recommender=google.iam.policy.Recommender \\\n",
        "--project=\"{project}\" \\\n",
        "--billing-project=\"{billing_project}\" \\\n",
        "--format=\"table[box,title='IAM Recommendations for curtailing public access of GCS buckets'](targetResources.basename().flatten():sort=1:label=BUCKET,content.overview.member,content.overview.removedRole,content.overview.addedRoles,priority)\" \\\n",
        "--filter=\"content.overview.member:allUsers OR content.overview.member:allAuthenticatedUsers\""
      ],
      "execution_count": null,
      "outputs": []
    },
    {
      "cell_type": "markdown",
      "metadata": {
        "id": "yc0IVK5EBweu"
      },
      "source": [
        "### Recommendations to curtail cross-project access "
      ]
    },
    {
      "cell_type": "code",
      "metadata": {
        "id": "oKLwxA6K-9tK"
      },
      "source": [
        "!gcloud recommender recommendations list \\\n",
        "--location=\"{location}\" \\\n",
        "--recommender=google.iam.policy.Recommender \\\n",
        "--project=\"{project}\" --format=json \\\n",
        "--billing-project=\"{billing_project}\" \\\n",
        "--format=\"table[box,title='IAM Recommendations for curtailing public access of GCS buckets'](targetResources.basename().flatten():sort=1:label=BUCKET,content.overview.member,content.overview.removedRole,content.overview.addedRoles,priority)\" \\\n",
        "--filter=\"content.overview.member:project* AND NOT content.overview.member:{project}\""
      ],
      "execution_count": null,
      "outputs": []
    },
    {
      "cell_type": "markdown",
      "metadata": {
        "id": "th23mM0cB7Tr"
      },
      "source": [
        "### Recommendations to curtail default access\n",
        "\n"
      ]
    },
    {
      "cell_type": "code",
      "metadata": {
        "id": "1QufQo-uCDPa"
      },
      "source": [
        "!gcloud recommender recommendations list \\\n",
        "--location=\"{location}\" \\\n",
        "--recommender=google.iam.policy.Recommender \\\n",
        "--project=\"{project}\" --format=json \\\n",
        "--billing-project=\"{billing_project}\" \\\n",
        "--format=\"table[box,title='IAM Recommendations for curtailing public access of GCS buckets'](targetResources.basename().flatten():sort=1:label=BUCKET,content.overview.member,content.overview.removedRole,content.overview.addedRoles,priority)\" \\\n",
        "--filter=\"content.overview.member:project*{project}\""
      ],
      "execution_count": null,
      "outputs": []
    },
    {
      "cell_type": "markdown",
      "metadata": {
        "id": "HvinX5fgnh7K"
      },
      "source": [
        "## Insight"
      ]
    },
    {
      "cell_type": "markdown",
      "metadata": {
        "id": "jNfOISg_9rLg"
      },
      "source": [
        "### All bucket insights for a given project and location"
      ]
    },
    {
      "cell_type": "code",
      "metadata": {
        "id": "W1mEXfd9zzuw"
      },
      "source": [
        "!gcloud recommender insights list \\\n",
        "--insight-type=google.iam.policy.Insight \\\n",
        "--project=\"{project}\" \\\n",
        "--billing-project=\"{billing_project}\" \\\n",
        "--location=\"{location}\" \\\n",
        "--format=\"table[box,title='IAM Policy Insight at GCS bucket level'](targetResources.basename().flatten():sort=1:label=BUCKET,content.member,content.role,content.currentTotalPermissionsCount,content.exercisedPermissions.len(),content.exercisedPermissions.permission,severity)\" \\"
      ],
      "execution_count": null,
      "outputs": []
    },
    {
      "cell_type": "markdown",
      "metadata": {
        "id": "VyuwpBj_90IJ"
      },
      "source": [
        "### Insights about public access"
      ]
    },
    {
      "cell_type": "code",
      "metadata": {
        "id": "Cl9zxEPq99uk"
      },
      "source": [
        "!gcloud recommender insights list \\\n",
        "--insight-type=google.iam.policy.Insight \\\n",
        "--project=\"{project}\" \\\n",
        "--billing-project=\"{billing_project}\" \\\n",
        "--location=\"{location}\" \\\n",
        "--format=\"table[box,title='IAM Policy Insight at GCS bucket level'](targetResources.basename().flatten():sort=1:label=BUCKET,content.member,content.role,content.currentTotalPermissionsCount,content.exercisedPermissions.len(),content.exercisedPermissions.permission,severity)\" \\\n",
        "--filter=\"content.member:allUsers OR content.member:allAuthenticatedUsers\"\n"
      ],
      "execution_count": null,
      "outputs": []
    },
    {
      "cell_type": "markdown",
      "metadata": {
        "id": "RTAlFCJMDMk8"
      },
      "source": [
        "### Insight about cross-project access"
      ]
    },
    {
      "cell_type": "code",
      "metadata": {
        "id": "zomRXY1UC2MA"
      },
      "source": [
        "!gcloud recommender insights list \\\n",
        "--insight-type=google.iam.policy.Insight \\\n",
        "--project=\"{project}\" \\\n",
        "--billing-project=\"{billing_project}\" \\\n",
        "--location=\"{location}\" \\\n",
        "--format=\"table[box,title='IAM Policy Insight at GCS bucket level'](targetResources.basename().flatten():sort=1:label=BUCKET,content.member,content.role,content.currentTotalPermissionsCount,content.exercisedPermissions.len(),content.exercisedPermissions.permission,severity)\" \\\n",
        "--filter=\"content.member:project* AND NOT content.member:{project}\""
      ],
      "execution_count": null,
      "outputs": []
    },
    {
      "cell_type": "markdown",
      "metadata": {
        "id": "ArRjylo9DR2D"
      },
      "source": [
        "### Insight about default access"
      ]
    },
    {
      "cell_type": "code",
      "metadata": {
        "id": "0c_lHmqxDXTi"
      },
      "source": [
        "!gcloud recommender insights list \\\n",
        "--insight-type=google.iam.policy.Insight \\\n",
        "--project=\"{project}\" \\\n",
        "--billing-project=\"{billing_project}\" \\\n",
        "--location=\"{location}\" \\\n",
        "--format=\"table[box,title='IAM Policy Insight at GCS bucket level'](targetResources.basename().flatten():sort=1:label=BUCKET,content.member,content.role,content.currentTotalPermissionsCount,content.exercisedPermissions.len(),content.exercisedPermissions.permission,severity)\" \\\n",
        "--filter=\"content.member:project*{project}\""
      ],
      "execution_count": null,
      "outputs": []
    },
    {
      "cell_type": "markdown",
      "metadata": {
        "id": "u6BnI0_Vn-9G"
      },
      "source": [
        "# BigQuery Export \n",
        "\n",
        "## For an organization level view of IAM recommendations and policy insights"
      ]
    },
    {
      "cell_type": "markdown",
      "metadata": {
        "id": "1J1mRSX5_ntr"
      },
      "source": [
        "1. Please enter the project that is storing BigQuery dataset for IAM Recommendations\n",
        "2. Please enter the date (Ex - 2021-12-03)"
      ]
    },
    {
      "cell_type": "code",
      "metadata": {
        "id": "e5GueCcB_I5j"
      },
      "source": [
        "#@title Configuration for BigQuery export of GCS bucket recommendations\n",
        "bigquery_export_project = \"Enter the project used for BigQuery export\" #@param{type:\"string\"}\n",
        "date=\"Enter the snapshot date of the recommendations\" #@param{type:\"string\"}\n",
        "bigquery_dataset = \"Enter the respective BigQuery Dataset\" #@param{type:\"string\"}"
      ],
      "execution_count": null,
      "outputs": []
    },
    {
      "cell_type": "markdown",
      "metadata": {
        "id": "QHcbi-64wE-e"
      },
      "source": [
        "## Organization Level View "
      ]
    },
    {
      "cell_type": "code",
      "metadata": {
        "id": "6CwoKrwO__0S"
      },
      "source": [
        "from google.cloud import bigquery\n",
        "\n",
        "bigquery_client = bigquery.Client(project=bigquery_export_project)"
      ],
      "execution_count": null,
      "outputs": []
    },
    {
      "cell_type": "code",
      "metadata": {
        "id": "-HmJ831coG8y"
      },
      "source": [
        "query_to_see_all_recommendations_from_biqquery_export = f\"\"\"\n",
        "SELECT \n",
        "  ancestors.organization_id,\n",
        "  ancestors.folder_ids,\n",
        "  cloud_entity_id AS project_number,\n",
        "  location,\n",
        "  SPLIT(target_resources[OFFSET(0)], \"/\")[OFFSET(3)] AS bucket_name,\n",
        "  JSON_QUERY(recommendation_details, \"$.overview.member\") AS user,\n",
        "  JSON_QUERY(recommendation_details, \"$.overview.removedRole\") AS removed_role,\n",
        "  JSON_QUERY(recommendation_details, \"$.overview.addedRoles\") AS added_roles,\n",
        "  JSON_QUERY(primary_impact.security_projection.details_json, \"$.revokedIamPermissionsCount\") \n",
        "      AS revoked_permission_count,\n",
        "FROM \n",
        "  `{bigquery_dataset}`\n",
        "WHERE\n",
        "   recommender = 'google.iam.policy.Recommender'\n",
        "    AND\n",
        "  location != \"global\"\n",
        "    AND\n",
        "  DATE(_PARTITIONTIME) = \"{date}\"\n",
        "\"\"\""
      ],
      "execution_count": null,
      "outputs": []
    },
    {
      "cell_type": "code",
      "metadata": {
        "id": "Vs6BI9Y3CXjN"
      },
      "source": [
        "(\n",
        "    bigquery_client.query(\n",
        "        query_to_see_all_recommendations_from_biqquery_export)\n",
        "    .to_dataframe()\n",
        ")"
      ],
      "execution_count": null,
      "outputs": []
    },
    {
      "cell_type": "markdown",
      "metadata": {
        "id": "vorElzLNv6hD"
      },
      "source": [
        "## Order projects based on impact of GCS bucket recommendations"
      ]
    },
    {
      "cell_type": "code",
      "metadata": {
        "id": "dsBsn1T2kPK1"
      },
      "source": [
        "query_to_see_overgranted_projects_for_GCS_bucket_recommendations = f\"\"\"\n",
        "SELECT \n",
        "  cloud_entity_id AS project_number,\n",
        "  SUM(\n",
        "    CAST(\n",
        "      JSON_VALUE(primary_impact.security_projection.details_json, \n",
        "                 \"$.revokedIamPermissionsCount\") \n",
        "      AS FLOAT64)\n",
        "    ) AS revoked_permission_count,\n",
        "FROM \n",
        "  `{bigquery_dataset}`\n",
        "WHERE\n",
        "   recommender = 'google.iam.policy.Recommender'\n",
        "    AND\n",
        "  location != \"global\"\n",
        "    AND\n",
        "  DATE(_PARTITIONTIME) = \"{date}\"\n",
        "GROUP BY cloud_entity_id\n",
        "ORDER BY revoked_permission_count DESC\n",
        "\"\"\""
      ],
      "execution_count": null,
      "outputs": []
    },
    {
      "cell_type": "code",
      "metadata": {
        "id": "2Hag1iRuDacw"
      },
      "source": [
        "(\n",
        "    bigquery_client.query(\n",
        "        query_to_see_overgranted_projects_for_GCS_bucket_recommendations)\n",
        "    .to_dataframe()\n",
        ")"
      ],
      "execution_count": null,
      "outputs": []
    },
    {
      "cell_type": "markdown",
      "metadata": {
        "id": "NWFX4gKAwhFX"
      },
      "source": [
        "## Track progress of least privillege"
      ]
    },
    {
      "cell_type": "code",
      "metadata": {
        "id": "tks7CrqSwy10"
      },
      "source": [
        "query_to_measure_progress_of_reduced_overgranting = f\"\"\"\n",
        "SELECT\n",
        "  DATE(_PARTITIONTIME) AS date,\n",
        "  cloud_entity_id AS project_number,\n",
        "  SUM(\n",
        "    CAST(\n",
        "      JSON_VALUE(primary_impact.security_projection.details_json, \n",
        "                 \"$.revokedIamPermissionsCount\") \n",
        "      AS FLOAT64)\n",
        "    ) AS revoked_permission_count,\n",
        "FROM \n",
        "  `{bigquery_dataset}`\n",
        "WHERE\n",
        "   recommender = 'google.iam.policy.Recommender'\n",
        "    AND\n",
        "  location != \"global\"\n",
        "GROUP BY cloud_entity_id, DATE(_PARTITIONTIME)\n",
        "\"\"\""
      ],
      "execution_count": null,
      "outputs": []
    },
    {
      "cell_type": "code",
      "metadata": {
        "id": "sz0_PgKbxpRU"
      },
      "source": [
        "(\n",
        "    bigquery_client.query(\n",
        "        query_to_measure_progress_of_reduced_overgranting)\n",
        "    .to_dataframe()\n",
        "    .set_index(\"date\")\n",
        "    .groupby(\"project_number\")[\"revoked_permission_count\"]\n",
        "    .plot(legend=True, figsize=(10,5), rot=45, ylabel=\"Excess permissions count\",\n",
        "          title=\"Least privillege of IAM policies at GCS bucket level\")\n",
        ");"
      ],
      "execution_count": null,
      "outputs": []
    },
    {
      "cell_type": "markdown",
      "metadata": {
        "id": "T70FogrwLOcV"
      },
      "source": [
        "# API using curl\n",
        "\n",
        "\n",
        "Use curl to get recommendations for a particular bucket"
      ]
    },
    {
      "cell_type": "code",
      "source": [
        "bucket_name = \"Enter the name your bucket for which you want recommendations.\" #@param{type:\"string\"}"
      ],
      "metadata": {
        "cellView": "form",
        "id": "X5ah3xHWtiXu"
      },
      "execution_count": null,
      "outputs": []
    },
    {
      "cell_type": "code",
      "metadata": {
        "id": "XLiiIeiRfS3_"
      },
      "source": [
        "!curl -X GET \\\n",
        "-H \"Authorization: Bearer $(gcloud auth application-default print-access-token)\" \\\n",
        "-H \"x-goog-user-project: {billing_project}\" \\\n",
        "\"https://recommender.googleapis.com/v1alpha2/projects/{project}/locations/{location}/recommenders/google.iam.policy.Recommender/recommendations?\"\\\n",
        "\"pageSize=10&\"\\\n",
        "\"filter=targetResources://storage.googleapis.com/ds-demo-vpc-sc-bucket\"\\"
      ],
      "execution_count": null,
      "outputs": []
    },
    {
      "cell_type": "code",
      "metadata": {
        "id": "tLQdl0Mxtbn1"
      },
      "source": [
        ""
      ],
      "execution_count": null,
      "outputs": []
    }
  ]
}