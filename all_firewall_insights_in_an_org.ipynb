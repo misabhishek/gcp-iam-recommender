{
  "nbformat": 4,
  "nbformat_minor": 0,
  "metadata": {
    "colab": {
      "name": "all-firewall-insights-in-an-org.ipynb",
      "provenance": [],
      "collapsed_sections": [],
      "authorship_tag": "ABX9TyNh3BTWBXj7UiSgoXrbaUa1",
      "include_colab_link": true
    },
    "kernelspec": {
      "name": "python3",
      "display_name": "Python 3"
    }
  },
  "cells": [
    {
      "cell_type": "markdown",
      "metadata": {
        "id": "view-in-github",
        "colab_type": "text"
      },
      "source": [
        "<a href=\"https://colab.research.google.com/github/misabhishek/gcp-iam-recommender/blob/main/all_firewall_insights_in_an_org.ipynb\" target=\"_parent\"><img src=\"https://colab.research.google.com/assets/colab-badge.svg\" alt=\"Open In Colab\"/></a>"
      ]
    },
    {
      "cell_type": "markdown",
      "metadata": {
        "id": "W_rpQ2AiSPPK"
      },
      "source": [
        "#Problem Statement\n",
        "\n",
        "Get all firewall insights in an org "
      ]
    },
    {
      "cell_type": "markdown",
      "metadata": {
        "id": "3USCxX9ESZ5I"
      },
      "source": [
        "### Imports"
      ]
    },
    {
      "cell_type": "code",
      "metadata": {
        "id": "WkYIk28fShJw"
      },
      "source": [
        "from google.colab import auth\n",
        "import json\n",
        "import subprocess\n",
        "\n",
        "import concurrent\n",
        "import logging\n",
        "\n",
        "logging.basicConfig(format=\"%(levelname)s[%(asctime)s]:%(message)s\")"
      ],
      "execution_count": null,
      "outputs": []
    },
    {
      "cell_type": "markdown",
      "metadata": {
        "id": "evqyijtaSjVU"
      },
      "source": [
        "### Lets authenticate"
      ]
    },
    {
      "cell_type": "code",
      "metadata": {
        "id": "hZGML0yrSmoS",
        "outputId": "39257e94-e04a-4a43-b178-44cc601ab410",
        "colab": {
          "base_uri": "https://localhost:8080/"
        }
      },
      "source": [
        "auth.authenticate_user()\n",
        "print('Authenticated')"
      ],
      "execution_count": null,
      "outputs": [
        {
          "output_type": "stream",
          "text": [
            "Authenticated\n"
          ],
          "name": "stdout"
        }
      ]
    },
    {
      "cell_type": "markdown",
      "metadata": {
        "id": "Xs_eM8aqSqnb"
      },
      "source": [
        "### Helper functions"
      ]
    },
    {
      "cell_type": "code",
      "metadata": {
        "id": "ItzbkPSXS1lx"
      },
      "source": [
        "def execute_command(command):\n",
        "  return json.loads(subprocess.check_output(filter(lambda x: x, command.split(\" \"))).decode(\"utf-8\"))"
      ],
      "execution_count": null,
      "outputs": []
    },
    {
      "cell_type": "markdown",
      "metadata": {
        "id": "7388TwhAS5KC"
      },
      "source": [
        "### Enter your org details"
      ]
    },
    {
      "cell_type": "code",
      "metadata": {
        "id": "_oJmktKHS8S9"
      },
      "source": [
        "organization = \"\" # organizations/[ORGANIZATION-ID] \n",
        "billing_project_id = \"\" # Billing project"
      ],
      "execution_count": null,
      "outputs": []
    },
    {
      "cell_type": "markdown",
      "metadata": {
        "id": "nQCho5C2S_Ub"
      },
      "source": [
        "### Get All the projects"
      ]
    },
    {
      "cell_type": "code",
      "metadata": {
        "id": "Jmf0amhLTUgs"
      },
      "source": [
        "get_all_projects_command = f\"\"\"gcloud asset search-all-resources \\\n",
        "                               --asset-types=cloudresourcemanager.googleapis.com/Project \\\n",
        "                               --scope={organization} --format=json --project={billing_project_id}\"\"\""
      ],
      "execution_count": null,
      "outputs": []
    },
    {
      "cell_type": "code",
      "metadata": {
        "id": "kJLq-SteTeDs"
      },
      "source": [
        "def get_all_projects():\n",
        "  projects = execute_command(get_all_projects_command)\n",
        "  return [p[\"additionalAttributes\"][\"projectId\"] for p in projects]\n",
        "\n",
        "project_ids = get_all_projects()\n",
        "\n",
        "print(\"project-ids\\n\\n\", \"\\n\".join(project_ids[:10]))"
      ],
      "execution_count": null,
      "outputs": []
    },
    {
      "cell_type": "markdown",
      "metadata": {
        "id": "DpCmtf9cTxe6"
      },
      "source": [
        "### Get All Firewall insights"
      ]
    },
    {
      "cell_type": "code",
      "metadata": {
        "id": "z79MeXx2VcOT"
      },
      "source": [
        "firewall_insight_command = \"\"\"gcloud beta recommender insights list \\\n",
        "                           --project={} \\\n",
        "                           --location=global --insight-type=google.compute.firewall.Insight \\\n",
        "                           --format=json --billing-project=\"\"\" + billing_project_id"
      ],
      "execution_count": null,
      "outputs": []
    },
    {
      "cell_type": "code",
      "metadata": {
        "id": "KhpNWxU-V450"
      },
      "source": [
        "def get_all_firewall_insights():\n",
        "  def get_insights(project_id):\n",
        "    try:\n",
        "      return {\"project_id\":project_id,\n",
        "              \"insights\": execute_command(firewall_insight_command.format(project_id))}\n",
        "    except:\n",
        "      logging.warning(f\"You don't have permissions to access project:`{project_id}`\")\n",
        "      return {\"project_id\": project_id,\n",
        "              \"insights\": []}\n",
        "\n",
        "  with concurrent.futures.ThreadPoolExecutor(max_workers=100) as executor:\n",
        "    insights = {\"all_insights\": list(executor.map(get_insights, project_ids))}\n",
        "  \n",
        "  return insights"
      ],
      "execution_count": null,
      "outputs": []
    },
    {
      "cell_type": "code",
      "metadata": {
        "id": "JnhlB22rWFW-"
      },
      "source": [
        "all_firewall_insights = get_all_firewall_insights()"
      ],
      "execution_count": null,
      "outputs": []
    },
    {
      "cell_type": "code",
      "metadata": {
        "id": "M2Aof5DSXWJb"
      },
      "source": [
        ""
      ],
      "execution_count": null,
      "outputs": []
    }
  ]
}